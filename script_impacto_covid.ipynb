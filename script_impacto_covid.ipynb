{
  "nbformat": 4,
  "nbformat_minor": 0,
  "metadata": {
    "colab": {
      "name": "script_impacto_covid.ipynb",
      "provenance": []
    },
    "kernelspec": {
      "name": "python3",
      "display_name": "Python 3"
    },
    "language_info": {
      "name": "python"
    }
  },
  "cells": [
    {
      "cell_type": "markdown",
      "metadata": {
        "id": "1lopbp74iv7m"
      },
      "source": [
        "# Impacto de la pandemia del COVID19 en los estudiantes\n",
        "* Márquez Estrada Arath Patricio\n",
        "* Rivera Vargas Juan\n",
        "* Briceño Díaz Sofía\n",
        "* Benitez Garcia Saul Enrique\n",
        "* Enríquez López José Andrés\n",
        "* Juárez Fonseca César Eduardo\n",
        "\n"
      ]
    },
    {
      "cell_type": "markdown",
      "metadata": {
        "id": "HOfJQtr5jMjb"
      },
      "source": [
        "## Introducción\n",
        "\n",
        "La crisis sanitaria provocada por la pandemia ha desencadenado una serie de cambios en varios sectores de la población, siendo el confinamiento uno que ha impactado de manera significativa en los estudiantes, lo cual ha modificado sus métodos de aprendizaje, sus hábitos, su rutina y su estilo de vida en general. Estos cambios en el estilo de vida puede desembocar en cambios en la salud física y mental de los estudiantes. Al ser un tema que nos afecta directamente a nosotros, y al ser una situación actual que se vive en todo el mundo, nos pareció una problemática interesante para analizar.\n",
        "\n",
        "Consideramos de gran importancia el tener conocimiento de estos cambios debido a la inminente incertidumbre que existe respecto a la duración de esta pandemia o a la aparición de nuevos virus provocadas por la invasión desregulada de hábitats silvestres y el calentamiento global. Teniendo eso en mente, podemos tener una mejor respuesta ante este tipo de situaciones y poder reducir sus impactos negativos.\n",
        "\n",
        "Además de ser un tema de salud pública, en términos comerciales, les puede ser de utilidad a las empresas el impacto que ha tenido la pandemia respecto al comportamiento de consumo de los estudiantes y poder identificar patrones para esgrimirse a partir de estos y diseñar estrategias de marketing.\n",
        "\n",
        "Para analizar este tema, trabajaremos con un dataset que ha recopilado datos sobre los estudiantes durante esta pandemia. Entre las preguntas que buscamos responder con nuestros datos se encuentran:\n",
        "* ¿Cómo ha afectado la pandemia a la salud mental de los estudiantes?\n",
        "* ¿Ha habido cambios en la salud física de los estudiantes?\n",
        "* ¿Cómo han cambiado los hábitos de estudio entre los estudiantes?\n",
        "* ¿Qué relación existe entre la percepción de las clases en línea y el medio que utilizan para tomar las clases?\n",
        "* ¿Cómo es la calidad del sueño de los estudiantes durante la pandemia?\n",
        "* ¿Cómo es percibida la calidad de las clases en línea en general?\n",
        "* ¿En qué actividad pasan más tiempo del día?\n",
        "* ¿Se han visto afectadas las relaciones de los estudiantes durante la pandemia?\n"
      ]
    },
    {
      "cell_type": "markdown",
      "metadata": {
        "id": "Thmpiy5f2vCR"
      },
      "source": [
        "## 1. Librerías\n",
        "Empezamos importando las librerías que necesitamos, además de montar Drive, donde tenemos nuestro dataset."
      ]
    },
    {
      "cell_type": "code",
      "metadata": {
        "id": "cvaSD7io3k77"
      },
      "source": [
        "import pandas as pd"
      ],
      "execution_count": null,
      "outputs": []
    },
    {
      "cell_type": "code",
      "metadata": {
        "id": "sFLMU0oz4AiK",
        "colab": {
          "base_uri": "https://localhost:8080/"
        },
        "outputId": "df9c7e45-1edf-4f45-8ba6-c9c57869286f"
      },
      "source": [
        "from google.colab import drive\n",
        "drive.mount('/content/drive')"
      ],
      "execution_count": null,
      "outputs": [
        {
          "output_type": "stream",
          "text": [
            "Drive already mounted at /content/drive; to attempt to forcibly remount, call drive.mount(\"/content/drive\", force_remount=True).\n"
          ],
          "name": "stdout"
        }
      ]
    },
    {
      "cell_type": "markdown",
      "metadata": {
        "id": "M6Xp_INM_j9X"
      },
      "source": [
        "## 2. Cargar los datos\n",
        "\n",
        "A continuación cargamos nuestro dataset y lo almacenamos en una variable llamada df como DataFrame."
      ]
    },
    {
      "cell_type": "code",
      "metadata": {
        "id": "FLrOUnST3QQ8"
      },
      "source": [
        "#df = pd.read_csv('/content/drive/MyDrive/BEDU/AnxietyPTSD-Data.csv', encoding='cp1252')\n",
        "df = pd.read_csv('/content/drive/MyDrive/BEDU/COVID-19 Survey Student Responses.csv')"
      ],
      "execution_count": null,
      "outputs": []
    },
    {
      "cell_type": "markdown",
      "metadata": {
        "id": "yMMw4FAj5I-O"
      },
      "source": [
        "## 3. Análisis exploratorio de datos"
      ]
    },
    {
      "cell_type": "markdown",
      "metadata": {
        "id": "cxeDZWG0_AkP"
      },
      "source": [
        "Hacemos un análisis introductorio de nuestro dataset para familiarizarnos con los datos que vamos a trabajar. Para esto, observamos algunos de los datos de nuestro dataset, vemos el tamaño y estructura de nuestro DataFrame, incluyendo el nombre de las columnas y el tipo de datos que contienen."
      ]
    },
    {
      "cell_type": "code",
      "metadata": {
        "colab": {
          "base_uri": "https://localhost:8080/",
          "height": 513
        },
        "id": "rQ8UFNGk_yEZ",
        "outputId": "93b2731b-a226-4776-ce1d-46c78d3706f6"
      },
      "source": [
        "df.head()"
      ],
      "execution_count": null,
      "outputs": [
        {
          "output_type": "execute_result",
          "data": {
            "text/html": [
              "<div>\n",
              "<style scoped>\n",
              "    .dataframe tbody tr th:only-of-type {\n",
              "        vertical-align: middle;\n",
              "    }\n",
              "\n",
              "    .dataframe tbody tr th {\n",
              "        vertical-align: top;\n",
              "    }\n",
              "\n",
              "    .dataframe thead th {\n",
              "        text-align: right;\n",
              "    }\n",
              "</style>\n",
              "<table border=\"1\" class=\"dataframe\">\n",
              "  <thead>\n",
              "    <tr style=\"text-align: right;\">\n",
              "      <th></th>\n",
              "      <th>ID</th>\n",
              "      <th>Region of residence</th>\n",
              "      <th>Age of Subject</th>\n",
              "      <th>Time spent on Online Class</th>\n",
              "      <th>Rating of Online Class experience</th>\n",
              "      <th>Medium for online class</th>\n",
              "      <th>Time spent on self study</th>\n",
              "      <th>Time spent on fitness</th>\n",
              "      <th>Time spent on sleep</th>\n",
              "      <th>Time spent on social media</th>\n",
              "      <th>Prefered social media platform</th>\n",
              "      <th>Time spent on TV</th>\n",
              "      <th>Number of meals per day</th>\n",
              "      <th>Change in your weight</th>\n",
              "      <th>Health issue during lockdown</th>\n",
              "      <th>Stress busters</th>\n",
              "      <th>Time utilized</th>\n",
              "      <th>Do you find yourself more connected with your family, close friends , relatives  ?</th>\n",
              "      <th>What you miss the most</th>\n",
              "    </tr>\n",
              "  </thead>\n",
              "  <tbody>\n",
              "    <tr>\n",
              "      <th>0</th>\n",
              "      <td>R1</td>\n",
              "      <td>Delhi-NCR</td>\n",
              "      <td>21</td>\n",
              "      <td>2.0</td>\n",
              "      <td>Good</td>\n",
              "      <td>Laptop/Desktop</td>\n",
              "      <td>4.0</td>\n",
              "      <td>0.0</td>\n",
              "      <td>7.0</td>\n",
              "      <td>3.0</td>\n",
              "      <td>Linkedin</td>\n",
              "      <td>1</td>\n",
              "      <td>4</td>\n",
              "      <td>Increased</td>\n",
              "      <td>NO</td>\n",
              "      <td>Cooking</td>\n",
              "      <td>YES</td>\n",
              "      <td>YES</td>\n",
              "      <td>School/college</td>\n",
              "    </tr>\n",
              "    <tr>\n",
              "      <th>1</th>\n",
              "      <td>R2</td>\n",
              "      <td>Delhi-NCR</td>\n",
              "      <td>21</td>\n",
              "      <td>0.0</td>\n",
              "      <td>Excellent</td>\n",
              "      <td>Smartphone</td>\n",
              "      <td>0.0</td>\n",
              "      <td>2.0</td>\n",
              "      <td>10.0</td>\n",
              "      <td>3.0</td>\n",
              "      <td>Youtube</td>\n",
              "      <td>0</td>\n",
              "      <td>3</td>\n",
              "      <td>Decreased</td>\n",
              "      <td>NO</td>\n",
              "      <td>Scrolling through social media</td>\n",
              "      <td>YES</td>\n",
              "      <td>NO</td>\n",
              "      <td>Roaming around freely</td>\n",
              "    </tr>\n",
              "    <tr>\n",
              "      <th>2</th>\n",
              "      <td>R3</td>\n",
              "      <td>Delhi-NCR</td>\n",
              "      <td>20</td>\n",
              "      <td>7.0</td>\n",
              "      <td>Very poor</td>\n",
              "      <td>Laptop/Desktop</td>\n",
              "      <td>3.0</td>\n",
              "      <td>0.0</td>\n",
              "      <td>6.0</td>\n",
              "      <td>2.0</td>\n",
              "      <td>Linkedin</td>\n",
              "      <td>0</td>\n",
              "      <td>3</td>\n",
              "      <td>Remain Constant</td>\n",
              "      <td>NO</td>\n",
              "      <td>Listening to music</td>\n",
              "      <td>NO</td>\n",
              "      <td>YES</td>\n",
              "      <td>Travelling</td>\n",
              "    </tr>\n",
              "    <tr>\n",
              "      <th>3</th>\n",
              "      <td>R4</td>\n",
              "      <td>Delhi-NCR</td>\n",
              "      <td>20</td>\n",
              "      <td>3.0</td>\n",
              "      <td>Very poor</td>\n",
              "      <td>Smartphone</td>\n",
              "      <td>2.0</td>\n",
              "      <td>1.0</td>\n",
              "      <td>6.0</td>\n",
              "      <td>5.0</td>\n",
              "      <td>Instagram</td>\n",
              "      <td>0</td>\n",
              "      <td>3</td>\n",
              "      <td>Decreased</td>\n",
              "      <td>NO</td>\n",
              "      <td>Watching web series</td>\n",
              "      <td>NO</td>\n",
              "      <td>NO</td>\n",
              "      <td>Friends , relatives</td>\n",
              "    </tr>\n",
              "    <tr>\n",
              "      <th>4</th>\n",
              "      <td>R5</td>\n",
              "      <td>Delhi-NCR</td>\n",
              "      <td>21</td>\n",
              "      <td>3.0</td>\n",
              "      <td>Good</td>\n",
              "      <td>Laptop/Desktop</td>\n",
              "      <td>3.0</td>\n",
              "      <td>1.0</td>\n",
              "      <td>8.0</td>\n",
              "      <td>3.0</td>\n",
              "      <td>Instagram</td>\n",
              "      <td>1</td>\n",
              "      <td>4</td>\n",
              "      <td>Remain Constant</td>\n",
              "      <td>NO</td>\n",
              "      <td>Social Media</td>\n",
              "      <td>NO</td>\n",
              "      <td>NO</td>\n",
              "      <td>Travelling</td>\n",
              "    </tr>\n",
              "  </tbody>\n",
              "</table>\n",
              "</div>"
            ],
            "text/plain": [
              "   ID  ... What you miss the most\n",
              "0  R1  ...         School/college\n",
              "1  R2  ...  Roaming around freely\n",
              "2  R3  ...             Travelling\n",
              "3  R4  ...    Friends , relatives\n",
              "4  R5  ...             Travelling\n",
              "\n",
              "[5 rows x 19 columns]"
            ]
          },
          "metadata": {
            "tags": []
          },
          "execution_count": 56
        }
      ]
    },
    {
      "cell_type": "code",
      "metadata": {
        "colab": {
          "base_uri": "https://localhost:8080/",
          "height": 462
        },
        "id": "yobtdefx5WNV",
        "outputId": "67405aa7-091d-49bd-949e-cc4fe5568097"
      },
      "source": [
        "df.tail()"
      ],
      "execution_count": null,
      "outputs": [
        {
          "output_type": "execute_result",
          "data": {
            "text/html": [
              "<div>\n",
              "<style scoped>\n",
              "    .dataframe tbody tr th:only-of-type {\n",
              "        vertical-align: middle;\n",
              "    }\n",
              "\n",
              "    .dataframe tbody tr th {\n",
              "        vertical-align: top;\n",
              "    }\n",
              "\n",
              "    .dataframe thead th {\n",
              "        text-align: right;\n",
              "    }\n",
              "</style>\n",
              "<table border=\"1\" class=\"dataframe\">\n",
              "  <thead>\n",
              "    <tr style=\"text-align: right;\">\n",
              "      <th></th>\n",
              "      <th>ID</th>\n",
              "      <th>Region of residence</th>\n",
              "      <th>Age of Subject</th>\n",
              "      <th>Time spent on Online Class</th>\n",
              "      <th>Rating of Online Class experience</th>\n",
              "      <th>Medium for online class</th>\n",
              "      <th>Time spent on self study</th>\n",
              "      <th>Time spent on fitness</th>\n",
              "      <th>Time spent on sleep</th>\n",
              "      <th>Time spent on social media</th>\n",
              "      <th>Prefered social media platform</th>\n",
              "      <th>Time spent on TV</th>\n",
              "      <th>Number of meals per day</th>\n",
              "      <th>Change in your weight</th>\n",
              "      <th>Health issue during lockdown</th>\n",
              "      <th>Stress busters</th>\n",
              "      <th>Time utilized</th>\n",
              "      <th>Do you find yourself more connected with your family, close friends , relatives  ?</th>\n",
              "      <th>What you miss the most</th>\n",
              "    </tr>\n",
              "  </thead>\n",
              "  <tbody>\n",
              "    <tr>\n",
              "      <th>1177</th>\n",
              "      <td>R1191</td>\n",
              "      <td>Delhi-NCR</td>\n",
              "      <td>12</td>\n",
              "      <td>3.0</td>\n",
              "      <td>Good</td>\n",
              "      <td>Smartphone</td>\n",
              "      <td>4.0</td>\n",
              "      <td>1.0</td>\n",
              "      <td>8.0</td>\n",
              "      <td>1.0</td>\n",
              "      <td>Instagram</td>\n",
              "      <td>2</td>\n",
              "      <td>3</td>\n",
              "      <td>Decreased</td>\n",
              "      <td>NO</td>\n",
              "      <td>Dancing</td>\n",
              "      <td>YES</td>\n",
              "      <td>YES</td>\n",
              "      <td>Travelling</td>\n",
              "    </tr>\n",
              "    <tr>\n",
              "      <th>1178</th>\n",
              "      <td>R1192</td>\n",
              "      <td>Delhi-NCR</td>\n",
              "      <td>14</td>\n",
              "      <td>6.0</td>\n",
              "      <td>Average</td>\n",
              "      <td>Smartphone</td>\n",
              "      <td>4.0</td>\n",
              "      <td>1.0</td>\n",
              "      <td>9.0</td>\n",
              "      <td>1.0</td>\n",
              "      <td>Whatsapp</td>\n",
              "      <td>1</td>\n",
              "      <td>4</td>\n",
              "      <td>Remain Constant</td>\n",
              "      <td>NO</td>\n",
              "      <td>Listening to music</td>\n",
              "      <td>YES</td>\n",
              "      <td>YES</td>\n",
              "      <td>Friends , relatives</td>\n",
              "    </tr>\n",
              "    <tr>\n",
              "      <th>1179</th>\n",
              "      <td>R1193</td>\n",
              "      <td>Delhi-NCR</td>\n",
              "      <td>13</td>\n",
              "      <td>4.0</td>\n",
              "      <td>Average</td>\n",
              "      <td>Smartphone</td>\n",
              "      <td>0.0</td>\n",
              "      <td>0.5</td>\n",
              "      <td>8.0</td>\n",
              "      <td>3.0</td>\n",
              "      <td>Youtube</td>\n",
              "      <td>2</td>\n",
              "      <td>4</td>\n",
              "      <td>Decreased</td>\n",
              "      <td>NO</td>\n",
              "      <td>Online gaming</td>\n",
              "      <td>NO</td>\n",
              "      <td>YES</td>\n",
              "      <td>School/college</td>\n",
              "    </tr>\n",
              "    <tr>\n",
              "      <th>1180</th>\n",
              "      <td>R1194</td>\n",
              "      <td>Delhi-NCR</td>\n",
              "      <td>14</td>\n",
              "      <td>5.0</td>\n",
              "      <td>Excellent</td>\n",
              "      <td>Laptop/Desktop</td>\n",
              "      <td>3.5</td>\n",
              "      <td>1.0</td>\n",
              "      <td>8.0</td>\n",
              "      <td>0.5</td>\n",
              "      <td>Youtube</td>\n",
              "      <td>1</td>\n",
              "      <td>4</td>\n",
              "      <td>Remain Constant</td>\n",
              "      <td>NO</td>\n",
              "      <td>Reading books</td>\n",
              "      <td>YES</td>\n",
              "      <td>YES</td>\n",
              "      <td>School/college</td>\n",
              "    </tr>\n",
              "    <tr>\n",
              "      <th>1181</th>\n",
              "      <td>R1195</td>\n",
              "      <td>Delhi-NCR</td>\n",
              "      <td>13</td>\n",
              "      <td>5.0</td>\n",
              "      <td>Good</td>\n",
              "      <td>Tablet</td>\n",
              "      <td>2.0</td>\n",
              "      <td>0.5</td>\n",
              "      <td>7.0</td>\n",
              "      <td>1.0</td>\n",
              "      <td>Whatsapp</td>\n",
              "      <td>1</td>\n",
              "      <td>3</td>\n",
              "      <td>Remain Constant</td>\n",
              "      <td>NO</td>\n",
              "      <td>Talking</td>\n",
              "      <td>YES</td>\n",
              "      <td>YES</td>\n",
              "      <td>School/college</td>\n",
              "    </tr>\n",
              "  </tbody>\n",
              "</table>\n",
              "</div>"
            ],
            "text/plain": [
              "         ID  ... What you miss the most\n",
              "1177  R1191  ...             Travelling\n",
              "1178  R1192  ...    Friends , relatives\n",
              "1179  R1193  ...         School/college\n",
              "1180  R1194  ...         School/college\n",
              "1181  R1195  ...         School/college\n",
              "\n",
              "[5 rows x 19 columns]"
            ]
          },
          "metadata": {
            "tags": []
          },
          "execution_count": 57
        }
      ]
    },
    {
      "cell_type": "code",
      "metadata": {
        "colab": {
          "base_uri": "https://localhost:8080/"
        },
        "id": "XGAfprSW6xHc",
        "outputId": "d0becdf5-2250-4a31-b175-26bd4b4ed187"
      },
      "source": [
        "df.size"
      ],
      "execution_count": null,
      "outputs": [
        {
          "output_type": "execute_result",
          "data": {
            "text/plain": [
              "22458"
            ]
          },
          "metadata": {
            "tags": []
          },
          "execution_count": 58
        }
      ]
    },
    {
      "cell_type": "code",
      "metadata": {
        "colab": {
          "base_uri": "https://localhost:8080/"
        },
        "id": "zd9JxlCY6zI5",
        "outputId": "d4f879ee-cb24-4e42-8ed8-163c8e93e293"
      },
      "source": [
        "df.dtypes"
      ],
      "execution_count": null,
      "outputs": [
        {
          "output_type": "execute_result",
          "data": {
            "text/plain": [
              "ID                                                                                     object\n",
              "Region of residence                                                                    object\n",
              "Age of Subject                                                                          int64\n",
              "Time spent on Online Class                                                            float64\n",
              "Rating of Online Class experience                                                      object\n",
              "Medium for online class                                                                object\n",
              "Time spent on self study                                                              float64\n",
              "Time spent on fitness                                                                 float64\n",
              "Time spent on sleep                                                                   float64\n",
              "Time spent on social media                                                            float64\n",
              "Prefered social media platform                                                         object\n",
              "Time spent on TV                                                                       object\n",
              "Number of meals per day                                                                 int64\n",
              "Change in your weight                                                                  object\n",
              "Health issue during lockdown                                                           object\n",
              "Stress busters                                                                         object\n",
              "Time utilized                                                                          object\n",
              "Do you find yourself more connected with your family, close friends , relatives  ?     object\n",
              "What you miss the most                                                                 object\n",
              "dtype: object"
            ]
          },
          "metadata": {
            "tags": []
          },
          "execution_count": 59
        }
      ]
    },
    {
      "cell_type": "code",
      "metadata": {
        "colab": {
          "base_uri": "https://localhost:8080/"
        },
        "id": "YGTqzfFg7M8Q",
        "outputId": "c9c1859b-2c2d-4388-e9b0-72c1588122d7"
      },
      "source": [
        "df.columns"
      ],
      "execution_count": null,
      "outputs": [
        {
          "output_type": "execute_result",
          "data": {
            "text/plain": [
              "Index(['ID', 'Region of residence', 'Age of Subject',\n",
              "       'Time spent on Online Class', 'Rating of Online Class experience',\n",
              "       'Medium for online class', 'Time spent on self study',\n",
              "       'Time spent on fitness', 'Time spent on sleep',\n",
              "       'Time spent on social media', 'Prefered social media platform',\n",
              "       'Time spent on TV', 'Number of meals per day', 'Change in your weight',\n",
              "       'Health issue during lockdown', 'Stress busters', 'Time utilized',\n",
              "       'Do you find yourself more connected with your family, close friends , relatives  ?',\n",
              "       'What you miss the most'],\n",
              "      dtype='object')"
            ]
          },
          "metadata": {
            "tags": []
          },
          "execution_count": 60
        }
      ]
    },
    {
      "cell_type": "code",
      "metadata": {
        "colab": {
          "base_uri": "https://localhost:8080/"
        },
        "id": "ToEN8HB17iV6",
        "outputId": "32046991-2a5e-4acf-fca1-8e1914f5d551"
      },
      "source": [
        "df['Stress busters']"
      ],
      "execution_count": null,
      "outputs": [
        {
          "output_type": "execute_result",
          "data": {
            "text/plain": [
              "0                              Cooking\n",
              "1       Scrolling through social media\n",
              "2                   Listening to music\n",
              "3                  Watching web series\n",
              "4                         Social Media\n",
              "                     ...              \n",
              "1177                           Dancing\n",
              "1178                Listening to music\n",
              "1179                     Online gaming\n",
              "1180                     Reading books\n",
              "1181                           Talking\n",
              "Name: Stress busters, Length: 1182, dtype: object"
            ]
          },
          "metadata": {
            "tags": []
          },
          "execution_count": 61
        }
      ]
    },
    {
      "cell_type": "code",
      "metadata": {
        "colab": {
          "base_uri": "https://localhost:8080/"
        },
        "id": "7qnhM9Ak7PKa",
        "outputId": "7861ea8a-9a4e-4c76-ba3a-aa39ceef7252"
      },
      "source": [
        "df.shape"
      ],
      "execution_count": null,
      "outputs": [
        {
          "output_type": "execute_result",
          "data": {
            "text/plain": [
              "(1182, 19)"
            ]
          },
          "metadata": {
            "tags": []
          },
          "execution_count": 62
        }
      ]
    },
    {
      "cell_type": "code",
      "metadata": {
        "colab": {
          "base_uri": "https://localhost:8080/"
        },
        "id": "rEyIQSPZ7SdF",
        "outputId": "024dcb18-76d7-47bd-fda8-15be168bb585"
      },
      "source": [
        "df.info()"
      ],
      "execution_count": null,
      "outputs": [
        {
          "output_type": "stream",
          "text": [
            "<class 'pandas.core.frame.DataFrame'>\n",
            "RangeIndex: 1182 entries, 0 to 1181\n",
            "Data columns (total 19 columns):\n",
            " #   Column                                                                              Non-Null Count  Dtype  \n",
            "---  ------                                                                              --------------  -----  \n",
            " 0   ID                                                                                  1182 non-null   object \n",
            " 1   Region of residence                                                                 1182 non-null   object \n",
            " 2   Age of Subject                                                                      1182 non-null   int64  \n",
            " 3   Time spent on Online Class                                                          1182 non-null   float64\n",
            " 4   Rating of Online Class experience                                                   1158 non-null   object \n",
            " 5   Medium for online class                                                             1131 non-null   object \n",
            " 6   Time spent on self study                                                            1182 non-null   float64\n",
            " 7   Time spent on fitness                                                               1182 non-null   float64\n",
            " 8   Time spent on sleep                                                                 1182 non-null   float64\n",
            " 9   Time spent on social media                                                          1182 non-null   float64\n",
            " 10  Prefered social media platform                                                      1182 non-null   object \n",
            " 11  Time spent on TV                                                                    1182 non-null   object \n",
            " 12  Number of meals per day                                                             1182 non-null   int64  \n",
            " 13  Change in your weight                                                               1182 non-null   object \n",
            " 14  Health issue during lockdown                                                        1182 non-null   object \n",
            " 15  Stress busters                                                                      1182 non-null   object \n",
            " 16  Time utilized                                                                       1182 non-null   object \n",
            " 17  Do you find yourself more connected with your family, close friends , relatives  ?  1182 non-null   object \n",
            " 18  What you miss the most                                                              1182 non-null   object \n",
            "dtypes: float64(5), int64(2), object(12)\n",
            "memory usage: 175.6+ KB\n"
          ],
          "name": "stdout"
        }
      ]
    },
    {
      "cell_type": "markdown",
      "metadata": {
        "id": "kOwS3AYKpfvS"
      },
      "source": [
        "Con las celdas anteriores nos damos cuenta de que varias de las columnas nos pueden ayudar a responder directamente algunas de nuestras preguntas. El dataset contiene 1182 filas, lo cual nos puede dar una idea inicial de cómo ha afectado la pandemia a los estudiantes. Los nombres de las columnas son bastante intuitivos, y la mayoría parecen tener el tipo de datos correcto, con pocas excepciones, por ejemplo el tiempo pasado en TV, que en vez de un valor numérico tiene un tipo de datos object."
      ]
    },
    {
      "cell_type": "markdown",
      "metadata": {
        "id": "QXAudR2g5S7v"
      },
      "source": [
        "## 4. Limpieza de datos y agregaciones"
      ]
    },
    {
      "cell_type": "code",
      "metadata": {
        "colab": {
          "base_uri": "https://localhost:8080/"
        },
        "id": "01LXuo9f5VAI",
        "outputId": "dbd45c63-9b7b-45f1-b3d7-89ff46aead4f"
      },
      "source": [
        "df.isna().sum()"
      ],
      "execution_count": null,
      "outputs": [
        {
          "output_type": "execute_result",
          "data": {
            "text/plain": [
              "ID                                                                                     0\n",
              "Region of residence                                                                    0\n",
              "Age of Subject                                                                         0\n",
              "Time spent on Online Class                                                             0\n",
              "Rating of Online Class experience                                                     24\n",
              "Medium for online class                                                               51\n",
              "Time spent on self study                                                               0\n",
              "Time spent on fitness                                                                  0\n",
              "Time spent on sleep                                                                    0\n",
              "Time spent on social media                                                             0\n",
              "Prefered social media platform                                                         0\n",
              "Time spent on TV                                                                       0\n",
              "Number of meals per day                                                                0\n",
              "Change in your weight                                                                  0\n",
              "Health issue during lockdown                                                           0\n",
              "Stress busters                                                                         0\n",
              "Time utilized                                                                          0\n",
              "Do you find yourself more connected with your family, close friends , relatives  ?     0\n",
              "What you miss the most                                                                 0\n",
              "dtype: int64"
            ]
          },
          "metadata": {
            "tags": []
          },
          "execution_count": 64
        }
      ]
    },
    {
      "cell_type": "markdown",
      "metadata": {
        "id": "gXA08fT_CzH2"
      },
      "source": [
        "*Al parecer tenemos dos columnas con NaNs \"**Rating of Online Class experience**\" y \"**Medium for online class**\"* "
      ]
    },
    {
      "cell_type": "code",
      "metadata": {
        "colab": {
          "base_uri": "https://localhost:8080/",
          "height": 530
        },
        "id": "nM66jLpF5XUD",
        "outputId": "017a2938-63d3-434b-a05e-300b1f8ff749"
      },
      "source": [
        "df[df['Medium for online class'].isna()].head()"
      ],
      "execution_count": null,
      "outputs": [
        {
          "output_type": "execute_result",
          "data": {
            "text/html": [
              "<div>\n",
              "<style scoped>\n",
              "    .dataframe tbody tr th:only-of-type {\n",
              "        vertical-align: middle;\n",
              "    }\n",
              "\n",
              "    .dataframe tbody tr th {\n",
              "        vertical-align: top;\n",
              "    }\n",
              "\n",
              "    .dataframe thead th {\n",
              "        text-align: right;\n",
              "    }\n",
              "</style>\n",
              "<table border=\"1\" class=\"dataframe\">\n",
              "  <thead>\n",
              "    <tr style=\"text-align: right;\">\n",
              "      <th></th>\n",
              "      <th>ID</th>\n",
              "      <th>Region of residence</th>\n",
              "      <th>Age of Subject</th>\n",
              "      <th>Time spent on Online Class</th>\n",
              "      <th>Rating of Online Class experience</th>\n",
              "      <th>Medium for online class</th>\n",
              "      <th>Time spent on self study</th>\n",
              "      <th>Time spent on fitness</th>\n",
              "      <th>Time spent on sleep</th>\n",
              "      <th>Time spent on social media</th>\n",
              "      <th>Prefered social media platform</th>\n",
              "      <th>Time spent on TV</th>\n",
              "      <th>Number of meals per day</th>\n",
              "      <th>Change in your weight</th>\n",
              "      <th>Health issue during lockdown</th>\n",
              "      <th>Stress busters</th>\n",
              "      <th>Time utilized</th>\n",
              "      <th>Do you find yourself more connected with your family, close friends , relatives  ?</th>\n",
              "      <th>What you miss the most</th>\n",
              "    </tr>\n",
              "  </thead>\n",
              "  <tbody>\n",
              "    <tr>\n",
              "      <th>32</th>\n",
              "      <td>R33</td>\n",
              "      <td>Delhi-NCR</td>\n",
              "      <td>21</td>\n",
              "      <td>0.0</td>\n",
              "      <td>Very poor</td>\n",
              "      <td>NaN</td>\n",
              "      <td>5.0</td>\n",
              "      <td>2.0</td>\n",
              "      <td>4.0</td>\n",
              "      <td>2.0</td>\n",
              "      <td>Omegle</td>\n",
              "      <td>0</td>\n",
              "      <td>3</td>\n",
              "      <td>Remain Constant</td>\n",
              "      <td>NO</td>\n",
              "      <td>Watching orgasm releasing videos</td>\n",
              "      <td>YES</td>\n",
              "      <td>NO</td>\n",
              "      <td>Nothing this is my usual life</td>\n",
              "    </tr>\n",
              "    <tr>\n",
              "      <th>34</th>\n",
              "      <td>R35</td>\n",
              "      <td>Delhi-NCR</td>\n",
              "      <td>20</td>\n",
              "      <td>0.0</td>\n",
              "      <td>NaN</td>\n",
              "      <td>NaN</td>\n",
              "      <td>6.0</td>\n",
              "      <td>1.0</td>\n",
              "      <td>6.0</td>\n",
              "      <td>5.0</td>\n",
              "      <td>Instagram</td>\n",
              "      <td>0</td>\n",
              "      <td>4</td>\n",
              "      <td>Increased</td>\n",
              "      <td>NO</td>\n",
              "      <td>Talking to your relatives</td>\n",
              "      <td>YES</td>\n",
              "      <td>NO</td>\n",
              "      <td>Eating outside</td>\n",
              "    </tr>\n",
              "    <tr>\n",
              "      <th>39</th>\n",
              "      <td>R40</td>\n",
              "      <td>Delhi-NCR</td>\n",
              "      <td>20</td>\n",
              "      <td>0.0</td>\n",
              "      <td>NaN</td>\n",
              "      <td>NaN</td>\n",
              "      <td>8.0</td>\n",
              "      <td>0.0</td>\n",
              "      <td>8.0</td>\n",
              "      <td>0.0</td>\n",
              "      <td>Youtube</td>\n",
              "      <td>0</td>\n",
              "      <td>3</td>\n",
              "      <td>Increased</td>\n",
              "      <td>NO</td>\n",
              "      <td>Reading books</td>\n",
              "      <td>NO</td>\n",
              "      <td>YES</td>\n",
              "      <td>Travelling</td>\n",
              "    </tr>\n",
              "    <tr>\n",
              "      <th>66</th>\n",
              "      <td>R67</td>\n",
              "      <td>Outside Delhi-NCR</td>\n",
              "      <td>19</td>\n",
              "      <td>0.0</td>\n",
              "      <td>NaN</td>\n",
              "      <td>NaN</td>\n",
              "      <td>0.0</td>\n",
              "      <td>2.0</td>\n",
              "      <td>6.0</td>\n",
              "      <td>4.0</td>\n",
              "      <td>Instagram</td>\n",
              "      <td>0.5</td>\n",
              "      <td>3</td>\n",
              "      <td>Remain Constant</td>\n",
              "      <td>NO</td>\n",
              "      <td>Listening to music</td>\n",
              "      <td>NO</td>\n",
              "      <td>YES</td>\n",
              "      <td>Eating outside</td>\n",
              "    </tr>\n",
              "    <tr>\n",
              "      <th>129</th>\n",
              "      <td>R130</td>\n",
              "      <td>Delhi-NCR</td>\n",
              "      <td>19</td>\n",
              "      <td>0.0</td>\n",
              "      <td>NaN</td>\n",
              "      <td>NaN</td>\n",
              "      <td>1.0</td>\n",
              "      <td>3.0</td>\n",
              "      <td>8.0</td>\n",
              "      <td>5.0</td>\n",
              "      <td>Instagram</td>\n",
              "      <td>1</td>\n",
              "      <td>1</td>\n",
              "      <td>Decreased</td>\n",
              "      <td>NO</td>\n",
              "      <td>Listening to music</td>\n",
              "      <td>NO</td>\n",
              "      <td>YES</td>\n",
              "      <td>Eating outside</td>\n",
              "    </tr>\n",
              "  </tbody>\n",
              "</table>\n",
              "</div>"
            ],
            "text/plain": [
              "       ID  ...         What you miss the most\n",
              "32    R33  ...  Nothing this is my usual life\n",
              "34    R35  ...                 Eating outside\n",
              "39    R40  ...                     Travelling\n",
              "66    R67  ...                 Eating outside\n",
              "129  R130  ...                 Eating outside\n",
              "\n",
              "[5 rows x 19 columns]"
            ]
          },
          "metadata": {
            "tags": []
          },
          "execution_count": 65
        }
      ]
    },
    {
      "cell_type": "markdown",
      "metadata": {
        "id": "WA1icxQW4Jqb"
      },
      "source": [
        "*En la columna **Medium for online class** sustituimos los NaNs por ***'No medium'*** para considerarlos en nuestro Dataset.*"
      ]
    },
    {
      "cell_type": "code",
      "metadata": {
        "id": "h1jUSZYS6l1r"
      },
      "source": [
        "df['Medium for online class'] = df['Medium for online class'].fillna('No medium')"
      ],
      "execution_count": null,
      "outputs": []
    },
    {
      "cell_type": "code",
      "metadata": {
        "colab": {
          "base_uri": "https://localhost:8080/"
        },
        "id": "YOB_ETLs5iFH",
        "outputId": "72fa2257-45f6-45b0-debf-0c5220743b2a"
      },
      "source": [
        "df['Medium for online class']"
      ],
      "execution_count": null,
      "outputs": [
        {
          "output_type": "execute_result",
          "data": {
            "text/plain": [
              "0       Laptop/Desktop\n",
              "1           Smartphone\n",
              "2       Laptop/Desktop\n",
              "3           Smartphone\n",
              "4       Laptop/Desktop\n",
              "             ...      \n",
              "1177        Smartphone\n",
              "1178        Smartphone\n",
              "1179        Smartphone\n",
              "1180    Laptop/Desktop\n",
              "1181            Tablet\n",
              "Name: Medium for online class, Length: 1182, dtype: object"
            ]
          },
          "metadata": {
            "tags": []
          },
          "execution_count": 67
        }
      ]
    },
    {
      "cell_type": "markdown",
      "metadata": {
        "id": "v9jhT7eA5e0f"
      },
      "source": [
        "*En la columna **Rating of Online Class experience** sustituimos los NaNs por ***'No rating'*** para considerarlos en nuestro Dataset.*"
      ]
    },
    {
      "cell_type": "code",
      "metadata": {
        "id": "OHE0h-0C5xgw"
      },
      "source": [
        "df['Rating of Online Class experience'] = df['Rating of Online Class experience'].fillna('No rating')"
      ],
      "execution_count": null,
      "outputs": []
    },
    {
      "cell_type": "code",
      "metadata": {
        "colab": {
          "base_uri": "https://localhost:8080/"
        },
        "id": "5FJsIOfQ61D4",
        "outputId": "693d06a4-0aa9-4db0-8614-589bd9e7e97b"
      },
      "source": [
        "df.isna().sum()"
      ],
      "execution_count": null,
      "outputs": [
        {
          "output_type": "execute_result",
          "data": {
            "text/plain": [
              "ID                                                                                    0\n",
              "Region of residence                                                                   0\n",
              "Age of Subject                                                                        0\n",
              "Time spent on Online Class                                                            0\n",
              "Rating of Online Class experience                                                     0\n",
              "Medium for online class                                                               0\n",
              "Time spent on self study                                                              0\n",
              "Time spent on fitness                                                                 0\n",
              "Time spent on sleep                                                                   0\n",
              "Time spent on social media                                                            0\n",
              "Prefered social media platform                                                        0\n",
              "Time spent on TV                                                                      0\n",
              "Number of meals per day                                                               0\n",
              "Change in your weight                                                                 0\n",
              "Health issue during lockdown                                                          0\n",
              "Stress busters                                                                        0\n",
              "Time utilized                                                                         0\n",
              "Do you find yourself more connected with your family, close friends , relatives  ?    0\n",
              "What you miss the most                                                                0\n",
              "dtype: int64"
            ]
          },
          "metadata": {
            "tags": []
          },
          "execution_count": 69
        }
      ]
    },
    {
      "cell_type": "markdown",
      "metadata": {
        "id": "HkPFxQADDmYz"
      },
      "source": [
        "*Ya tenemos nuestro dataframe limpio para poder trabajar sobre él*\n",
        "\n",
        "\n",
        "**Aplicaremos funciones de agregación para poder responder algunas preguntas anteriormente planteadas**\n",
        "\n",
        "*Primero una descripción general de nuestro dataframe*\n",
        "\n"
      ]
    },
    {
      "cell_type": "code",
      "metadata": {
        "colab": {
          "base_uri": "https://localhost:8080/",
          "height": 314
        },
        "id": "SZlxCE-n65Vc",
        "outputId": "462df9cf-265d-4493-c3f5-fab4a5ca3e1e"
      },
      "source": [
        "df.describe()"
      ],
      "execution_count": null,
      "outputs": [
        {
          "output_type": "execute_result",
          "data": {
            "text/html": [
              "<div>\n",
              "<style scoped>\n",
              "    .dataframe tbody tr th:only-of-type {\n",
              "        vertical-align: middle;\n",
              "    }\n",
              "\n",
              "    .dataframe tbody tr th {\n",
              "        vertical-align: top;\n",
              "    }\n",
              "\n",
              "    .dataframe thead th {\n",
              "        text-align: right;\n",
              "    }\n",
              "</style>\n",
              "<table border=\"1\" class=\"dataframe\">\n",
              "  <thead>\n",
              "    <tr style=\"text-align: right;\">\n",
              "      <th></th>\n",
              "      <th>Age of Subject</th>\n",
              "      <th>Time spent on Online Class</th>\n",
              "      <th>Time spent on self study</th>\n",
              "      <th>Time spent on fitness</th>\n",
              "      <th>Time spent on sleep</th>\n",
              "      <th>Time spent on social media</th>\n",
              "      <th>Number of meals per day</th>\n",
              "    </tr>\n",
              "  </thead>\n",
              "  <tbody>\n",
              "    <tr>\n",
              "      <th>count</th>\n",
              "      <td>1182.000000</td>\n",
              "      <td>1182.000000</td>\n",
              "      <td>1182.000000</td>\n",
              "      <td>1182.000000</td>\n",
              "      <td>1182.000000</td>\n",
              "      <td>1182.000000</td>\n",
              "      <td>1182.000000</td>\n",
              "    </tr>\n",
              "    <tr>\n",
              "      <th>mean</th>\n",
              "      <td>20.165821</td>\n",
              "      <td>3.208841</td>\n",
              "      <td>2.911591</td>\n",
              "      <td>0.765821</td>\n",
              "      <td>7.871235</td>\n",
              "      <td>2.365694</td>\n",
              "      <td>2.917936</td>\n",
              "    </tr>\n",
              "    <tr>\n",
              "      <th>std</th>\n",
              "      <td>5.516467</td>\n",
              "      <td>2.101756</td>\n",
              "      <td>2.140590</td>\n",
              "      <td>0.724451</td>\n",
              "      <td>1.615762</td>\n",
              "      <td>1.767336</td>\n",
              "      <td>0.828698</td>\n",
              "    </tr>\n",
              "    <tr>\n",
              "      <th>min</th>\n",
              "      <td>7.000000</td>\n",
              "      <td>0.000000</td>\n",
              "      <td>0.000000</td>\n",
              "      <td>0.000000</td>\n",
              "      <td>4.000000</td>\n",
              "      <td>0.000000</td>\n",
              "      <td>1.000000</td>\n",
              "    </tr>\n",
              "    <tr>\n",
              "      <th>25%</th>\n",
              "      <td>17.000000</td>\n",
              "      <td>2.000000</td>\n",
              "      <td>2.000000</td>\n",
              "      <td>0.000000</td>\n",
              "      <td>7.000000</td>\n",
              "      <td>1.000000</td>\n",
              "      <td>2.000000</td>\n",
              "    </tr>\n",
              "    <tr>\n",
              "      <th>50%</th>\n",
              "      <td>20.000000</td>\n",
              "      <td>3.000000</td>\n",
              "      <td>2.000000</td>\n",
              "      <td>1.000000</td>\n",
              "      <td>8.000000</td>\n",
              "      <td>2.000000</td>\n",
              "      <td>3.000000</td>\n",
              "    </tr>\n",
              "    <tr>\n",
              "      <th>75%</th>\n",
              "      <td>21.000000</td>\n",
              "      <td>5.000000</td>\n",
              "      <td>4.000000</td>\n",
              "      <td>1.000000</td>\n",
              "      <td>9.000000</td>\n",
              "      <td>3.000000</td>\n",
              "      <td>3.000000</td>\n",
              "    </tr>\n",
              "    <tr>\n",
              "      <th>max</th>\n",
              "      <td>59.000000</td>\n",
              "      <td>10.000000</td>\n",
              "      <td>18.000000</td>\n",
              "      <td>5.000000</td>\n",
              "      <td>15.000000</td>\n",
              "      <td>10.000000</td>\n",
              "      <td>8.000000</td>\n",
              "    </tr>\n",
              "  </tbody>\n",
              "</table>\n",
              "</div>"
            ],
            "text/plain": [
              "       Age of Subject  ...  Number of meals per day\n",
              "count     1182.000000  ...              1182.000000\n",
              "mean        20.165821  ...                 2.917936\n",
              "std          5.516467  ...                 0.828698\n",
              "min          7.000000  ...                 1.000000\n",
              "25%         17.000000  ...                 2.000000\n",
              "50%         20.000000  ...                 3.000000\n",
              "75%         21.000000  ...                 3.000000\n",
              "max         59.000000  ...                 8.000000\n",
              "\n",
              "[8 rows x 7 columns]"
            ]
          },
          "metadata": {
            "tags": []
          },
          "execution_count": 70
        }
      ]
    },
    {
      "cell_type": "markdown",
      "metadata": {
        "id": "wSENaQR-JHgZ"
      },
      "source": [
        "*trataremos de dar respuesta a la pregunta* ***¿Cómo es percibida la calidad de las clases en línea en general?***"
      ]
    },
    {
      "cell_type": "code",
      "metadata": {
        "colab": {
          "base_uri": "https://localhost:8080/"
        },
        "id": "WTVRcE_cIojX",
        "outputId": "acd8d868-7b47-422c-dd29-177f5ae5f04f"
      },
      "source": [
        "df.groupby(\"Rating of Online Class experience\")[\"ID\"].count()"
      ],
      "execution_count": null,
      "outputs": [
        {
          "output_type": "execute_result",
          "data": {
            "text/plain": [
              "Rating of Online Class experience\n",
              "Average      387\n",
              "Excellent     98\n",
              "Good         230\n",
              "No rating     24\n",
              "Poor          30\n",
              "Very poor    413\n",
              "Name: ID, dtype: int64"
            ]
          },
          "metadata": {
            "tags": []
          },
          "execution_count": 71
        }
      ]
    },
    {
      "cell_type": "markdown",
      "metadata": {
        "id": "WiVnFLHQFobw"
      },
      "source": [
        "*De lo anterior podemos notar que la percepción general de las clases en línea pasa de lo regular a muy deficiente.*"
      ]
    },
    {
      "cell_type": "markdown",
      "metadata": {
        "id": "QgmLehuKyqOF"
      },
      "source": [
        "***¿Qué relación existe entre la percepción de las clases en línea y el medio que utilizan para tomar las clases?***"
      ]
    },
    {
      "cell_type": "code",
      "metadata": {
        "colab": {
          "base_uri": "https://localhost:8080/",
          "height": 266
        },
        "id": "Hv83een9vJG3",
        "outputId": "f460672f-71e1-4d25-86e3-983dcae301f8"
      },
      "source": [
        "df.groupby(['Medium for online class', 'Rating of Online Class experience'])['ID'].count().unstack().fillna(0)"
      ],
      "execution_count": null,
      "outputs": [
        {
          "output_type": "execute_result",
          "data": {
            "text/html": [
              "<div>\n",
              "<style scoped>\n",
              "    .dataframe tbody tr th:only-of-type {\n",
              "        vertical-align: middle;\n",
              "    }\n",
              "\n",
              "    .dataframe tbody tr th {\n",
              "        vertical-align: top;\n",
              "    }\n",
              "\n",
              "    .dataframe thead th {\n",
              "        text-align: right;\n",
              "    }\n",
              "</style>\n",
              "<table border=\"1\" class=\"dataframe\">\n",
              "  <thead>\n",
              "    <tr style=\"text-align: right;\">\n",
              "      <th>Rating of Online Class experience</th>\n",
              "      <th>Average</th>\n",
              "      <th>Excellent</th>\n",
              "      <th>Good</th>\n",
              "      <th>No rating</th>\n",
              "      <th>Poor</th>\n",
              "      <th>Very poor</th>\n",
              "    </tr>\n",
              "    <tr>\n",
              "      <th>Medium for online class</th>\n",
              "      <th></th>\n",
              "      <th></th>\n",
              "      <th></th>\n",
              "      <th></th>\n",
              "      <th></th>\n",
              "      <th></th>\n",
              "    </tr>\n",
              "  </thead>\n",
              "  <tbody>\n",
              "    <tr>\n",
              "      <th>Any Gadget</th>\n",
              "      <td>1.0</td>\n",
              "      <td>0.0</td>\n",
              "      <td>3.0</td>\n",
              "      <td>0.0</td>\n",
              "      <td>0.0</td>\n",
              "      <td>1.0</td>\n",
              "    </tr>\n",
              "    <tr>\n",
              "      <th>Laptop/Desktop</th>\n",
              "      <td>199.0</td>\n",
              "      <td>43.0</td>\n",
              "      <td>110.0</td>\n",
              "      <td>0.0</td>\n",
              "      <td>11.0</td>\n",
              "      <td>182.0</td>\n",
              "    </tr>\n",
              "    <tr>\n",
              "      <th>No medium</th>\n",
              "      <td>10.0</td>\n",
              "      <td>2.0</td>\n",
              "      <td>7.0</td>\n",
              "      <td>24.0</td>\n",
              "      <td>0.0</td>\n",
              "      <td>8.0</td>\n",
              "    </tr>\n",
              "    <tr>\n",
              "      <th>Smartphone</th>\n",
              "      <td>169.0</td>\n",
              "      <td>46.0</td>\n",
              "      <td>95.0</td>\n",
              "      <td>0.0</td>\n",
              "      <td>18.0</td>\n",
              "      <td>211.0</td>\n",
              "    </tr>\n",
              "    <tr>\n",
              "      <th>Smartphone or Laptop/Desktop</th>\n",
              "      <td>1.0</td>\n",
              "      <td>2.0</td>\n",
              "      <td>1.0</td>\n",
              "      <td>0.0</td>\n",
              "      <td>1.0</td>\n",
              "      <td>0.0</td>\n",
              "    </tr>\n",
              "    <tr>\n",
              "      <th>Tablet</th>\n",
              "      <td>7.0</td>\n",
              "      <td>5.0</td>\n",
              "      <td>14.0</td>\n",
              "      <td>0.0</td>\n",
              "      <td>0.0</td>\n",
              "      <td>11.0</td>\n",
              "    </tr>\n",
              "  </tbody>\n",
              "</table>\n",
              "</div>"
            ],
            "text/plain": [
              "Rating of Online Class experience  Average  Excellent  ...  Poor  Very poor\n",
              "Medium for online class                                ...                 \n",
              "Any Gadget                             1.0        0.0  ...   0.0        1.0\n",
              "Laptop/Desktop                       199.0       43.0  ...  11.0      182.0\n",
              "No medium                             10.0        2.0  ...   0.0        8.0\n",
              "Smartphone                           169.0       46.0  ...  18.0      211.0\n",
              "Smartphone or Laptop/Desktop           1.0        2.0  ...   1.0        0.0\n",
              "Tablet                                 7.0        5.0  ...   0.0       11.0\n",
              "\n",
              "[6 rows x 6 columns]"
            ]
          },
          "metadata": {
            "tags": []
          },
          "execution_count": 72
        }
      ]
    },
    {
      "cell_type": "markdown",
      "metadata": {
        "id": "WFSwaHO3wh7f"
      },
      "source": [
        "Podemos apreciar que realmente no hay una diferencia significativa entre la perspectiva sobre la experiencia de las clases en linea respecto al medio que utilizan"
      ]
    },
    {
      "cell_type": "markdown",
      "metadata": {
        "id": "ZOkSC9q08iEM"
      },
      "source": [
        "## 5. Transformación, filtración y ordenamiento de datos"
      ]
    },
    {
      "cell_type": "code",
      "metadata": {
        "colab": {
          "base_uri": "https://localhost:8080/"
        },
        "id": "_Csc1cQx7EoT",
        "outputId": "44e15be5-0ec5-427b-eedf-33c5b7bb44d8"
      },
      "source": [
        "set(df['Time spent on TV'])"
      ],
      "execution_count": null,
      "outputs": [
        {
          "output_type": "execute_result",
          "data": {
            "text/plain": [
              "{' ',\n",
              " '0',\n",
              " '0.1',\n",
              " '0.25',\n",
              " '0.3',\n",
              " '0.4',\n",
              " '0.5',\n",
              " '0.6',\n",
              " '0.75',\n",
              " '1',\n",
              " '1.5',\n",
              " '15',\n",
              " '2',\n",
              " '2.5',\n",
              " '3',\n",
              " '3.5',\n",
              " '4',\n",
              " '4.5',\n",
              " '5',\n",
              " '6',\n",
              " '7',\n",
              " '8',\n",
              " 'N',\n",
              " 'No tv',\n",
              " 'n'}"
            ]
          },
          "metadata": {
            "tags": []
          },
          "execution_count": 73
        }
      ]
    },
    {
      "cell_type": "code",
      "metadata": {
        "id": "4arFr7SP8nHv"
      },
      "source": [
        "df['Time spent on TV'] = df['Time spent on TV'].replace({'N': 0, 'No tv':0, 'n': 0, ' ':0}).astype(float)"
      ],
      "execution_count": null,
      "outputs": []
    },
    {
      "cell_type": "markdown",
      "metadata": {
        "id": "wGza1aHs47Kx"
      },
      "source": [
        "con la transformación de la columna de \"Time spent on TV\" ahora podemos responder a la pregunta.\n",
        "\n",
        "***¿En qué actividad pasan más tiempo del día?***"
      ]
    },
    {
      "cell_type": "code",
      "metadata": {
        "colab": {
          "base_uri": "https://localhost:8080/"
        },
        "id": "4IZL6qVZ5LzE",
        "outputId": "46f6c5d8-40d4-4ad4-867b-1df8bbc35cc7"
      },
      "source": [
        "df[[\"Time spent on fitness\",\"Time spent on social media\",\n",
        "    \"Time spent on TV\",\"Time spent on self study\"]].agg(\"sum\")\n"
      ],
      "execution_count": null,
      "outputs": [
        {
          "output_type": "execute_result",
          "data": {
            "text/plain": [
              "Time spent on fitness          905.20\n",
              "Time spent on social media    2796.25\n",
              "Time spent on TV              1198.50\n",
              "Time spent on self study      3441.50\n",
              "dtype: float64"
            ]
          },
          "metadata": {
            "tags": []
          },
          "execution_count": 84
        }
      ]
    },
    {
      "cell_type": "markdown",
      "metadata": {
        "id": "KsOPo1wV86ui"
      },
      "source": [
        "El estudio autodidacto parece ser la actividad a la que le dedican más tiempo durante el día."
      ]
    },
    {
      "cell_type": "code",
      "metadata": {
        "colab": {
          "base_uri": "https://localhost:8080/"
        },
        "id": "DDLGnxp79Ipv",
        "outputId": "0c573ab2-6dc6-4b93-8bb0-b768aa4ceff0"
      },
      "source": [
        "df.info()"
      ],
      "execution_count": null,
      "outputs": [
        {
          "output_type": "stream",
          "text": [
            "<class 'pandas.core.frame.DataFrame'>\n",
            "RangeIndex: 1182 entries, 0 to 1181\n",
            "Data columns (total 19 columns):\n",
            " #   Column                                                                              Non-Null Count  Dtype  \n",
            "---  ------                                                                              --------------  -----  \n",
            " 0   ID                                                                                  1182 non-null   object \n",
            " 1   Region of residence                                                                 1182 non-null   object \n",
            " 2   Age of Subject                                                                      1182 non-null   int64  \n",
            " 3   Time spent on Online Class                                                          1182 non-null   float64\n",
            " 4   Rating of Online Class experience                                                   1182 non-null   object \n",
            " 5   Medium for online class                                                             1182 non-null   object \n",
            " 6   Time spent on self study                                                            1182 non-null   float64\n",
            " 7   Time spent on fitness                                                               1182 non-null   float64\n",
            " 8   Time spent on sleep                                                                 1182 non-null   float64\n",
            " 9   Time spent on social media                                                          1182 non-null   float64\n",
            " 10  Prefered social media platform                                                      1182 non-null   object \n",
            " 11  Time spent on TV                                                                    1182 non-null   float64\n",
            " 12  Number of meals per day                                                             1182 non-null   int64  \n",
            " 13  Change in your weight                                                               1182 non-null   object \n",
            " 14  Health issue during lockdown                                                        1182 non-null   object \n",
            " 15  Stress busters                                                                      1182 non-null   object \n",
            " 16  Time utilized                                                                       1182 non-null   object \n",
            " 17  Do you find yourself more connected with your family, close friends , relatives  ?  1182 non-null   object \n",
            " 18  What you miss the most                                                              1182 non-null   object \n",
            "dtypes: float64(6), int64(2), object(11)\n",
            "memory usage: 175.6+ KB\n"
          ],
          "name": "stdout"
        }
      ]
    },
    {
      "cell_type": "code",
      "metadata": {
        "colab": {
          "base_uri": "https://localhost:8080/"
        },
        "id": "Dr7w3zq9_DHp",
        "outputId": "20a81aaa-86e5-4aac-d79d-9fd30471d19d"
      },
      "source": [
        "for i in df.loc[: , df.dtypes==object].columns:\n",
        "  print(set(df[i]))"
      ],
      "execution_count": null,
      "outputs": [
        {
          "output_type": "stream",
          "text": [
            "{'R66', 'R282', 'R1047', 'R717', 'R322', 'R642', 'R9', 'R993', 'R707', 'R1095', 'R507', 'R910', 'R848', 'R999', 'R1129', 'R406', 'R393', 'R1010', 'R561', 'R346', 'R969', 'R1068', 'R1126', 'R1140', 'R451', 'R487', 'R238', 'R41', 'R584', 'R515', 'R857', 'R991', 'R419', 'R143', 'R1117', 'R1144', 'R91', 'R88', 'R383', 'R573', 'R877', 'R116', 'R586', 'R537', 'R818', 'R291', 'R46', 'R1089', 'R645', 'R351', 'R26', 'R771', 'R1054', 'R288', 'R147', 'R495', 'R202', 'R18', 'R685', 'R1113', 'R1037', 'R10', 'R653', 'R1143', 'R86', 'R382', 'R1056', 'R67', 'R331', 'R635', 'R76', 'R932', 'R96', 'R739', 'R958', 'R315', 'R1065', 'R1127', 'R332', 'R702', 'R172', 'R976', 'R741', 'R194', 'R226', 'R708', 'R943', 'R752', 'R588', 'R594', 'R704', 'R449', 'R851', 'R690', 'R1048', 'R534', 'R244', 'R471', 'R628', 'R845', 'R740', 'R678', 'R405', 'R78', 'R675', 'R962', 'R935', 'R1115', 'R334', 'R938', 'R16', 'R256', 'R1182', 'R110', 'R1190', 'R513', 'R263', 'R945', 'R442', 'R53', 'R355', 'R224', 'R591', 'R434', 'R509', 'R652', 'R1141', 'R373', 'R961', 'R98', 'R273', 'R260', 'R261', 'R856', 'R122', 'R933', 'R858', 'R1155', 'R415', 'R862', 'R1191', 'R211', 'R606', 'R549', 'R464', 'R1070', 'R136', 'R424', 'R544', 'R944', 'R1064', 'R54', 'R458', 'R662', 'R477', 'R780', 'R1151', 'R1132', 'R751', 'R134', 'R85', 'R1083', 'R141', 'R970', 'R145', 'R846', 'R854', 'R506', 'R1093', 'R104', 'R255', 'R871', 'R1156', 'R156', 'R599', 'R1088', 'R936', 'R410', 'R832', 'R1183', 'R855', 'R123', 'R712', 'R872', 'R1153', 'R1111', 'R417', 'R806', 'R1021', 'R120', 'R223', 'R403', 'R1165', 'R318', 'R298', 'R401', 'R138', 'R691', 'R852', 'R375', 'R577', 'R1000', 'R992', 'R142', 'R303', 'R874', 'R19', 'R585', 'R155', 'R368', 'R775', 'R1118', 'R779', 'R527', 'R778', 'R611', 'R811', 'R843', 'R1179', 'R150', 'R1066', 'R952', 'R234', 'R1142', 'R285', 'R108', 'R121', 'R421', 'R574', 'R866', 'R500', 'R989', 'R861', 'R1102', 'R1020', 'R890', 'R824', 'R714', 'R391', 'R947', 'R135', 'R367', 'R810', 'R880', 'R949', 'R115', 'R508', 'R1084', 'R559', 'R384', 'R909', 'R732', 'R1040', 'R32', 'R317', 'R1105', 'R792', 'R207', 'R543', 'R621', 'R1125', 'R1177', 'R233', 'R964', 'R1062', 'R1099', 'R917', 'R501', 'R504', 'R370', 'R530', 'R174', 'R571', 'R498', 'R499', 'R593', 'R973', 'R668', 'R523', 'R718', 'R795', 'R472', 'R519', 'R865', 'R1090', 'R402', 'R737', 'R879', 'R397', 'R625', 'R557', 'R450', 'R743', 'R13', 'R1024', 'R1051', 'R271', 'R640', 'R440', 'R658', 'R433', 'R567', 'R627', 'R1171', 'R117', 'R453', 'R386', 'R1130', 'R7', 'R514', 'R87', 'R493', 'R267', 'R926', 'R206', 'R363', 'R456', 'R956', 'R157', 'R912', 'R249', 'R228', 'R460', 'R1018', 'R529', 'R1059', 'R270', 'R75', 'R724', 'R466', 'R853', 'R164', 'R191', 'R395', 'R486', 'R986', 'R462', 'R1169', 'R347', 'R1181', 'R975', 'R192', 'R265', 'R742', 'R348', 'R352', 'R239', 'R1131', 'R925', 'R630', 'R1079', 'R762', 'R521', 'R343', 'R820', 'R850', 'R894', 'R1119', 'R886', 'R972', 'R1012', 'R649', 'R95', 'R61', 'R990', 'R492', 'R838', 'R445', 'R407', 'R716', 'R644', 'R979', 'R598', 'R759', 'R984', 'R681', 'R829', 'R203', 'R1036', 'R308', 'R1147', 'R1186', 'R340', 'R747', 'R293', 'R111', 'R297', 'R246', 'R446', 'R1188', 'R695', 'R744', 'R1189', 'R491', 'R510', 'R160', 'R836', 'R12', 'R1159', 'R225', 'R674', 'R21', 'R764', 'R8', 'R107', 'R396', 'R475', 'R547', 'R608', 'R176', 'R784', 'R978', 'R987', 'R787', 'R1061', 'R1092', 'R23', 'R1128', 'R1187', 'R33', 'R118', 'R564', 'R694', 'R37', 'R330', 'R381', 'R374', 'R14', 'R693', 'R756', 'R90', 'R266', 'R595', 'R68', 'R807', 'R392', 'R522', 'R572', 'R1006', 'R65', 'R313', 'R554', 'R620', 'R103', 'R201', 'R283', 'R602', 'R814', 'R216', 'R951', 'R953', 'R467', 'R1008', 'R184', 'R361', 'R641', 'R686', 'R480', 'R1058', 'R1158', 'R755', 'R689', 'R930', 'R505', 'R736', 'R528', 'R1112', 'R563', 'R983', 'R55', 'R746', 'R793', 'R163', 'R697', 'R1009', 'R757', 'R542', 'R646', 'R532', 'R398', 'R520', 'R940', 'R124', 'R789', 'R765', 'R624', 'R960', 'R77', 'R920', 'R189', 'R1007', 'R1192', 'R555', 'R1027', 'R130', 'R276', 'R536', 'R461', 'R204', 'R431', 'R196', 'R251', 'R45', 'R112', 'R412', 'R372', 'R425', 'R665', 'R236', 'R253', 'R29', 'R525', 'R666', 'R703', 'R753', 'R654', 'R786', 'R1136', 'R518', 'R937', 'R454', 'R1035', 'R264', 'R1121', 'R907', 'R30', 'R934', 'R48', 'R638', 'R34', 'R576', 'R545', 'R670', 'R128', 'R5', 'R651', 'R682', 'R805', 'R149', 'R183', 'R170', 'R1075', 'R109', 'R289', 'R790', 'R906', 'R58', 'R815', 'R842', 'R378', 'R272', 'R1034', 'R329', 'R473', 'R819', 'R83', 'R326', 'R911', 'R558', 'R94', 'R281', 'R967', 'R496', 'R966', 'R1175', 'R217', 'R389', 'R490', 'R1050', 'R664', 'R502', 'R835', 'R168', 'R957', 'R182', 'R600', 'R895', 'R39', 'R17', 'R414', 'R648', 'R1031', 'R82', 'R1023', 'R659', 'R589', 'R840', 'R1108', 'R837', 'R1063', 'R939', 'R1133', 'R825', 'R360', 'R517', 'R457', 'R1094', 'R512', 'R1172', 'R963', 'R408', 'R919', 'R250', 'R535', 'R20', 'R489', 'R800', 'R1116', 'R337', 'R302', 'R218', 'R709', 'R826', 'R237', 'R928', 'R941', 'R185', 'R791', 'R801', 'R988', 'R132', 'R1087', 'R1100', 'R366', 'R705', 'R306', 'R60', 'R955', 'R650', 'R1160', 'R1173', 'R148', 'R280', 'R882', 'R28', 'R981', 'R427', 'R1015', 'R6', 'R1097', 'R209', 'R388', 'R153', 'R470', 'R551', 'R830', 'R950', 'R657', 'R927', 'R488', 'R59', 'R773', 'R36', 'R797', 'R173', 'R710', 'R27', 'R479', 'R275', 'R575', 'R1038', 'R766', 'R1030', 'R1071', 'R918', 'R314', 'R1139', 'R728', 'R292', 'R56', 'R269', 'R587', 'R892', 'R1078', 'R1076', 'R309', 'R1166', 'R444', 'R1148', 'R63', 'R997', 'R208', 'R359', 'R399', 'R859', 'R1011', 'R1162', 'R821', 'R11', 'R1013', 'R119', 'R416', 'R660', 'R161', 'R1022', 'R81', 'R171', 'R1046', 'R165', 'R688', 'R92', 'R1180', 'R1001', 'R1014', 'R632', 'R839', 'R371', 'R114', 'R476', 'R540', 'R299', 'R1091', 'R57', 'R974', 'R671', 'R548', 'R864', 'R441', 'R1005', 'R1167', 'R899', 'R812', 'R333', 'R656', 'R799', 'R1042', 'R776', 'R356', 'R511', 'R699', 'R679', 'R1045', 'R553', 'R80', 'R15', 'R531', 'R339', 'R541', 'R867', 'R435', 'R887', 'R296', 'R1041', 'R426', 'R546', 'R1168', 'R243', 'R802', 'R198', 'R344', 'R998', 'R497', 'R49', 'R639', 'R47', 'R1055', 'R127', 'R1110', 'R719', 'R921', 'R760', 'R774', 'R320', 'R636', 'R667', 'R1052', 'R701', 'R484', 'R468', 'R538', 'R873', 'R328', 'R162', 'R84', 'R438', 'R817', 'R698', 'R345', 'R175', 'R1060', 'R1145', 'R931', 'R323', 'R1019', 'R875', 'R295', 'R647', 'R570', 'R908', 'R1154', 'R977', 'R883', 'R552', 'R152', 'R390', 'R436', 'R3', 'R394', 'R325', 'R212', 'R257', 'R311', 'R721', 'R1069', 'R1137', 'R200', 'R631', 'R995', 'R483', 'R996', 'R1073', 'R1124', 'R922', 'R809', 'R783', 'R179', 'R336', 'R447', 'R1057', 'R167', 'R294', 'R327', 'R235', 'R1149', 'R914', 'R262', 'R1185', 'R1074', 'R181', 'R400', 'R290', 'R197', 'R1184', 'R286', 'R503', 'R40', 'R579', 'R485', 'R301', 'R619', 'R1072', 'R893', 'R310', 'R680', 'R614', 'R1138', 'R804', 'R565', 'R131', 'R190', 'R278', 'R452', 'R734', 'R749', 'R803', 'R948', 'R777', 'R1150', 'R533', 'R568', 'R903', 'R655', 'R364', 'R634', 'R129', 'R242', 'R796', 'R428', 'R252', 'R1002', 'R896', 'R823', 'R241', 'R247', 'R745', 'R754', 'R723', 'R376', 'R794', 'R833', 'R97', 'R387', 'R240', 'R597', 'R100', 'R72', 'R582', 'R768', 'R834', 'R750', 'R354', 'R798', 'R994', 'R868', 'R929', 'R590', 'R362', 'R1044', 'R443', 'R601', 'R623', 'R580', 'R672', 'R673', 'R982', 'R733', 'R1109', 'R965', 'R409', 'R888', 'R230', 'R349', 'R822', 'R1049', 'R613', 'R626', 'R358', 'R847', 'R1033', 'R1178', 'R578', 'R35', 'R1123', 'R274', 'R1028', 'R687', 'R761', 'R166', 'R1176', 'R159', 'R1114', 'R214', 'R767', 'R144', 'R1103', 'R169', 'R341', 'R583', 'R905', 'R432', 'R411', 'R219', 'R663', 'R335', 'R610', 'R618', 'R353', 'R676', 'R816', 'R429', 'R215', 'R463', 'R25', 'R526', 'R44', 'R71', 'R1017', 'R770', 'R959', 'R180', 'R769', 'R889', 'R188', 'R609', 'R126', 'R187', 'R494', 'R1026', 'R437', 'R1164', 'R605', 'R350', 'R1025', 'R222', 'R465', 'R482', 'R516', 'R1029', 'R1004', 'R562', 'R1194', 'R140', 'R307', 'R31', 'R101', 'R146', 'R279', 'R205', 'R841', 'R913', 'R229', 'R177', 'R232', 'R592', 'R1104', 'R1161', 'R946', 'R885', 'R782', 'R158', 'R79', 'R637', 'R1134', 'R70', 'R1', 'R474', 'R849', 'R22', 'R869', 'R735', 'R980', 'R321', 'R897', 'R43', 'R268', 'R785', 'R1107', 'R106', 'R2', 'R151', 'R878', 'R430', 'R569', 'R696', 'R69', 'R231', 'R748', 'R916', 'R1120', 'R62', 'R985', 'R1043', 'R1032', 'R1122', 'R113', 'R612', 'R4', 'R711', 'R904', 'R1053', 'R1135', 'R788', 'R1157', 'R923', 'R604', 'R763', 'R700', 'R731', 'R725', 'R1016', 'R38', 'R287', 'R439', 'R420', 'R881', 'R901', 'R813', 'R186', 'R220', 'R365', 'R715', 'R418', 'R669', 'R324', 'R137', 'R713', 'R50', 'R448', 'R1146', 'R616', 'R566', 'R422', 'R596', 'R64', 'R617', 'R305', 'R221', 'R245', 'R304', 'R831', 'R377', 'R643', 'R316', 'R726', 'R1101', 'R727', 'R178', 'R102', 'R1193', 'R193', 'R781', 'R1077', 'R1081', 'R133', 'R581', 'R357', 'R1067', 'R210', 'R1096', 'R898', 'R379', 'R481', 'R258', 'R524', 'R1195', 'R738', 'R139', 'R633', 'R560', 'R1082', 'R629', 'R876', 'R828', 'R915', 'R199', 'R692', 'R478', 'R1080', 'R413', 'R227', 'R74', 'R99', 'R93', 'R860', 'R968', 'R195', 'R312', 'R342', 'R844', 'R863', 'R1085', 'R52', 'R385', 'R404', 'R338', 'R556', 'R900', 'R902', 'R1106', 'R469', 'R1152', 'R459', 'R684', 'R758', 'R622', 'R24', 'R954', 'R539', 'R1098', 'R254', 'R772', 'R51', 'R827', 'R89', 'R730', 'R706', 'R550', 'R125', 'R971', 'R1174', 'R423', 'R891', 'R603', 'R808', 'R924', 'R73', 'R42', 'R105', 'R154', 'R259', 'R455', 'R661', 'R729', 'R615', 'R722', 'R380', 'R870', 'R884', 'R683', 'R369', 'R942', 'R720'}\n",
            "{'Delhi-NCR', 'Outside Delhi-NCR'}\n",
            "{'Very poor', 'Poor', 'Excellent', 'Average', 'No rating', 'Good'}\n",
            "{'Any Gadget', 'Smartphone', 'Smartphone or Laptop/Desktop', 'No medium', 'Laptop/Desktop', 'Tablet'}\n",
            "{'Linkedin', 'Elyment', 'None ', 'Quora', 'Twitter', 'Instagram', 'Whatsapp', 'Facebook', 'Omegle', 'Telegram', 'Talklife', 'WhatsApp', 'Youtube', 'None', 'Snapchat', 'Reddit'}\n",
            "{'Decreased', 'Remain Constant', 'Increased'}\n",
            "{'YES', 'NO'}\n",
            "{'Driving', 'Whatever want', 'Sketching and writing', 'Taking with parents', 'No able to reduce the stress ', 'Online surfing', 'Listening to music and reading books both . ', 'Business', 'Talking with friends ', 'With a friend', 'Indoor Games', 'Talk with childhood friends.', 'Reading', 'Many of these', 'Playing ', 'Painting ', 'Football', 'Watching YouTube ', 'Cricket', 'I run', 'Listening to music', 'Cardio', 'Painting', 'Do some home related stuff', 'Workout ', ' listening music, motion design, graphic design, sleeping.', 'Social Media', 'singing', 'Watching web series', 'Coding and studying for exams', 'Exercise', 'Sleep', 'Many among these ', 'live stream watching', 'workout', 'watching movies,reading books,games,listening to music,sleep,dancing', 'I have no problem of stress ', 'Workout and listening music', 'Poetry, writing books and novels , listening to music too', 'Drawing, painting', 'Cooking', 'working out and some physical activity', 'Talking to your relatives', 'Dont get distreessed', 'Talking to friends', 'listening to music,reading books and dancing.', 'no stress', 'drawing ', 'Talking', 'pubg', 'Running', 'Watching ted talks and music and books', 'All reading books watching web series listening to music and talking to friends', 'Sleeping', 'gardening cartoon', 'Netflix, Friends and Books', 'Work', 'Web Series', 'Drawing and painting and sketching', 'Watching orgasm releasing videos', 'Calling friends', 'Sketching', 'Drawing', 'Online gaming', 'Dancing', 'sketching,reading books,meditation,songs', 'Exercising', 'Both listining music and scrolling down social media', 'Scrolling through social media', 'Reading books, music, exercise', 'Writing my own Comics & novels', 'Anime Manga', 'Gym', 'Painting,. Sewing', 'Meditation', 'Online gaming , surfing and listening to music ', 'I play Rubiks cube', 'Crying', 'Youtube', 'Writing', 'I cant de-stress myslef', 'Reading books', 'Forming ', 'Sleeping, Online games', 'By engaging in my work.', 'Sports'}\n",
            "{'YES', 'NO'}\n",
            "{'YES', 'NO'}\n",
            "{'all', 'Family ', 'ALL', 'Nah, this is my usual lifestyle anyway, just being lazy....', 'All above', 'Eating outside', 'Friends, relatives & travelling', 'School and friends.', 'Nothing', 'All of the above ', 'All', 'Family', 'School and my school friends', 'Nothing this is my usual life', 'Normal life', 'Internet', 'All ', 'Gym', 'Nothing ', 'Being social ', 'Only friends', 'Travelling & Friends', 'Badminton in court', 'Roaming around freely', 'Job', 'Friends and School', 'All the above', 'Eating outside and friends.', 'Previous mistakes', 'Football', 'nothing', 'My normal routine', 'everything', 'Friends , relatives', 'NOTHING', 'Taking kids to park', 'All of them', 'all of the above', 'The idea of being around fun loving people but this time has certainly made us all to reconnect (and fill the gap if any) with our families and relatives so it is fun but certainly we do miss hanging out with friends', '.', 'Friends and roaming around freely', 'Friends,Romaing and traveling', 'Metro', 'Playing', 'school, relatives and friends', 'I have missed nothing ', 'Travelling', 'Colleagues', 'To stay alone. ', 'School/college', 'Going to the movies'}\n"
          ],
          "name": "stdout"
        }
      ]
    },
    {
      "cell_type": "markdown",
      "metadata": {
        "id": "zaWzgF1OZhKG"
      },
      "source": [
        "Vemos que los datos en las columnas tienen una estructura adecuada. Hacemos ahora varios subconjuntos para responder algunas de las preguntas iniciales."
      ]
    },
    {
      "cell_type": "markdown",
      "metadata": {
        "id": "PXj_jXKYZ6d8"
      },
      "source": [
        "**¿Cómo es la calidad del sueño de los estudiantes durante la pandemia?**"
      ]
    },
    {
      "cell_type": "code",
      "metadata": {
        "id": "gGuJYXNW_VUr",
        "colab": {
          "base_uri": "https://localhost:8080/"
        },
        "outputId": "33d04523-5bd0-496b-b1bf-e1895c85b0ac"
      },
      "source": [
        "df_duerme_menos_8_horas = df[df['Time spent on sleep']<8]\n",
        "df_duerme_menos_8_horas.ID.count()"
      ],
      "execution_count": null,
      "outputs": [
        {
          "output_type": "execute_result",
          "data": {
            "text/plain": [
              "487"
            ]
          },
          "metadata": {
            "tags": []
          },
          "execution_count": 78
        }
      ]
    },
    {
      "cell_type": "markdown",
      "metadata": {
        "id": "zPkenPc1aGHF"
      },
      "source": [
        "La cantidad de sueño ideal es entre 8 y 10 horas. Vemos que hay 487 estudiantes de los encuestados que duermen menos de 8 horas. La falta de sueño puede traer problemas de salud a largo plazo."
      ]
    },
    {
      "cell_type": "markdown",
      "metadata": {
        "id": "YRhrWEtoagLF"
      },
      "source": [
        "**¿Ha habido cambios en la salud física de los estudiantes?**"
      ]
    },
    {
      "cell_type": "code",
      "metadata": {
        "id": "3ZwWlpQeA8k1",
        "colab": {
          "base_uri": "https://localhost:8080/"
        },
        "outputId": "5a2c3b64-dfbe-46d4-cce0-1619c93c7d2e"
      },
      "source": [
        "df_problema_de_salud = df[df['Health issue during lockdown']=='YES']\n",
        "df_problema_de_salud.ID.count()"
      ],
      "execution_count": null,
      "outputs": [
        {
          "output_type": "execute_result",
          "data": {
            "text/plain": [
              "161"
            ]
          },
          "metadata": {
            "tags": []
          },
          "execution_count": 79
        }
      ]
    },
    {
      "cell_type": "code",
      "metadata": {
        "id": "SZ3TTKyFBVv1"
      },
      "source": [
        "df_cambios_de_peso =  df_duerme_menos_8_horas[df_duerme_menos_8_horas['Change in your weight']!='Remain Constant']\n"
      ],
      "execution_count": null,
      "outputs": []
    },
    {
      "cell_type": "markdown",
      "metadata": {
        "id": "Cze93f8HamEt"
      },
      "source": [
        "Hacemos otro subconjunto de datos de los estudiantes que han tenido problemas de salud durante el confinamiento, y observamos que hay **161** estudiantes que han tenido algun problema de salud. Además, de los estudiantes que duermen menos de 8 horas, creamos otro subconjunto incluyendo los que han tenido cambios en su peso."
      ]
    },
    {
      "cell_type": "markdown",
      "metadata": {
        "id": "C7tGJLJNbLzu"
      },
      "source": [
        "**¿Se han visto afectadas las relaciones de los estudiantes durante la pandemia?**"
      ]
    },
    {
      "cell_type": "code",
      "metadata": {
        "id": "PYwysu1vCKx4"
      },
      "source": [
        "def misses_something(x):\n",
        "  for i in x:\n",
        "    i = i.lower()\n",
        "    if i == 'nothing':\n",
        "      return False\n",
        "  return True\n"
      ],
      "execution_count": null,
      "outputs": []
    },
    {
      "cell_type": "code",
      "metadata": {
        "id": "ffXZxFVXBlPI"
      },
      "source": [
        "df_peso_y_extrana_cosas = df_cambios_de_peso[df_cambios_de_peso['What you miss the most'].str.split().map(misses_something)]"
      ],
      "execution_count": null,
      "outputs": []
    },
    {
      "cell_type": "code",
      "metadata": {
        "id": "i_7U0M3iDEA_"
      },
      "source": [
        "df_peso_extrana_desconectado = df_peso_y_extrana_cosas[df_peso_y_extrana_cosas['Do you find yourself more connected with your family, close friends , relatives  ?']=='NO']"
      ],
      "execution_count": null,
      "outputs": []
    },
    {
      "cell_type": "markdown",
      "metadata": {
        "id": "KFgJSM9Yb28o"
      },
      "source": [
        "Usando los subconjuntos anteriores, incluimos uno con los estudiantes que echan de menos algo, y que no se sienten más conectados con sus familias y amigos. Éstos parecen buenos candidatos de estudiantes que pueden desarrollar problemas de salud mental y física."
      ]
    },
    {
      "cell_type": "code",
      "metadata": {
        "id": "NZ6qGk66cNXh"
      },
      "source": [
        ""
      ],
      "execution_count": null,
      "outputs": []
    }
  ]
}