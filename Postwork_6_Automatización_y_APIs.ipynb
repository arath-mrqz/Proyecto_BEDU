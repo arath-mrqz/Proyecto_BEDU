{
  "nbformat": 4,
  "nbformat_minor": 0,
  "metadata": {
    "colab": {
      "name": "Postwork 6: Automatización y APIs.ipynb",
      "provenance": [],
      "collapsed_sections": []
    },
    "kernelspec": {
      "name": "python3",
      "display_name": "Python 3"
    },
    "language_info": {
      "name": "python"
    }
  },
  "cells": [
    {
      "cell_type": "markdown",
      "metadata": {
        "id": "JtokWfhoIttF"
      },
      "source": [
        "# **Equipo 12** Postwork 6: Automatización y APIs\n",
        "\n",
        "OBJETIVO\n",
        "- Practicar el uso de APIs y peticiones HTTP.\n",
        "- Automatizar procesos de exploración y limpieza usando for loops.\n",
        "- Proteger nuestro código contra errores usando try except.\n",
        "\n",
        "REQUISITOS\n",
        "- Haber realizado previamente la primer fase de limpieza de tu dataset\n",
        "\n",
        "\n",
        "\n",
        "\n",
        "\n"
      ]
    },
    {
      "cell_type": "markdown",
      "metadata": {
        "id": "kHbSLpxqead9"
      },
      "source": [
        "# [ Covid-19-API](https://github.com/M-Media-Group/Covid-19-API)\n",
        "\n",
        "**Descripcion:** Covid 19 cases, deaths and recovery per country\n",
        "\n",
        "**Authorization:** No authorisation is required to fetch data from the API.\n",
        "\n"
      ]
    },
    {
      "cell_type": "markdown",
      "metadata": {
        "id": "Ud4gQS_UMxVO"
      },
      "source": [
        "Lo que vamos a realizar utilizando esta API es crear un dataset con  informacion sobre:\n",
        "- Casos confirmados\n",
        "- Defunciones\n",
        "- Fecha de actualizacion\n",
        "- Tasa de letalidad\n",
        "\n",
        "para cada estado donde vivimos los integrantes del equipo"
      ]
    },
    {
      "cell_type": "markdown",
      "metadata": {
        "id": "ueD5X1qQN-3Z"
      },
      "source": [
        "## Requests a la API"
      ]
    },
    {
      "cell_type": "code",
      "metadata": {
        "id": "tKkvZ4UwcmBQ"
      },
      "source": [
        "#libreria requests\n",
        "import requests"
      ],
      "execution_count": null,
      "outputs": []
    },
    {
      "cell_type": "code",
      "metadata": {
        "id": "T8ePV9UvcnIQ"
      },
      "source": [
        "#API base\n",
        "url_2='https://covid-api.mmediagroup.fr/v1/cases'"
      ],
      "execution_count": null,
      "outputs": []
    },
    {
      "cell_type": "code",
      "metadata": {
        "id": "eLIkAXwYc32Q"
      },
      "source": [
        "#parametros, seleccionamos la informacion de México\n",
        "payload={\n",
        "    'country':'Mexico'\n",
        "}"
      ],
      "execution_count": null,
      "outputs": []
    },
    {
      "cell_type": "code",
      "metadata": {
        "id": "mof2L9RWdBr1"
      },
      "source": [
        "#guardamos el requests\n",
        "r=requests.get(url_2,params=payload)"
      ],
      "execution_count": null,
      "outputs": []
    },
    {
      "cell_type": "code",
      "metadata": {
        "colab": {
          "base_uri": "https://localhost:8080/"
        },
        "id": "gsMs8gExdHUp",
        "outputId": "ae1b3610-9df4-451a-fbeb-8d5f695570ce"
      },
      "source": [
        "#resultado\n",
        "r.json()"
      ],
      "execution_count": null,
      "outputs": [
        {
          "output_type": "execute_result",
          "data": {
            "text/plain": [
              "{'Aguascalientes': {'confirmed': 29004,\n",
              "  'deaths': 2519,\n",
              "  'lat': '21.8853',\n",
              "  'long': '-102.2916',\n",
              "  'recovered': 0,\n",
              "  'updated': '2021/08/13 17:21:29+00'},\n",
              " 'All': {'abbreviation': 'MX',\n",
              "  'capital_city': 'Ciudad de M',\n",
              "  'confirmed': 3045571,\n",
              "  'continent': 'North America',\n",
              "  'country': 'Mexico',\n",
              "  'deaths': 246811,\n",
              "  'elevation_in_meters': '1,111',\n",
              "  'iso': 484,\n",
              "  'lat': '19.4969',\n",
              "  'life_expectancy': '71.5',\n",
              "  'location': 'Central America',\n",
              "  'long': '-99.7233',\n",
              "  'population': 129163276,\n",
              "  'recovered': 0,\n",
              "  'sq_km_area': 1958201},\n",
              " 'Baja California': {'confirmed': 54037,\n",
              "  'deaths': 8965,\n",
              "  'lat': '30.8406',\n",
              "  'long': '-115.2838',\n",
              "  'recovered': 0,\n",
              "  'updated': '2021/08/13 17:21:29+00'},\n",
              " 'Baja California Sur': {'confirmed': 51384,\n",
              "  'deaths': 2091,\n",
              "  'lat': '26.0444',\n",
              "  'long': '-111.6661',\n",
              "  'recovered': 0,\n",
              "  'updated': '2021/08/13 17:21:29+00'},\n",
              " 'Campeche': {'confirmed': 16301,\n",
              "  'deaths': 1538,\n",
              "  'lat': '19.8301',\n",
              "  'long': '-90.5349',\n",
              "  'recovered': 0,\n",
              "  'updated': '2021/08/13 17:21:29+00'},\n",
              " 'Chiapas': {'confirmed': 17095,\n",
              "  'deaths': 1850,\n",
              "  'lat': '16.7569',\n",
              "  'long': '-93.1292',\n",
              "  'recovered': 0,\n",
              "  'updated': '2021/08/13 17:21:29+00'},\n",
              " 'Chihuahua': {'confirmed': 61425,\n",
              "  'deaths': 7698,\n",
              "  'lat': '28.633',\n",
              "  'long': '-106.0691',\n",
              "  'recovered': 0,\n",
              "  'updated': '2021/08/13 17:21:29+00'},\n",
              " 'Ciudad de Mexico': {'confirmed': 833802,\n",
              "  'deaths': 36412,\n",
              "  'lat': '19.4326',\n",
              "  'long': '-99.1332',\n",
              "  'recovered': 0,\n",
              "  'updated': '2021/08/13 17:21:29+00'},\n",
              " 'Coahuila': {'confirmed': 76170,\n",
              "  'deaths': 6614,\n",
              "  'lat': '27.0587',\n",
              "  'long': '-101.7068',\n",
              "  'recovered': 0,\n",
              "  'updated': '2021/08/13 17:21:29+00'},\n",
              " 'Colima': {'confirmed': 19902,\n",
              "  'deaths': 1347,\n",
              "  'lat': '19.1223',\n",
              "  'long': '-104.0072',\n",
              "  'recovered': 0,\n",
              "  'updated': '2021/08/13 17:21:29+00'},\n",
              " 'Durango': {'confirmed': 40272,\n",
              "  'deaths': 2597,\n",
              "  'lat': '24.5593',\n",
              "  'long': '-104.6588',\n",
              "  'recovered': 0,\n",
              "  'updated': '2021/08/13 17:21:29+00'},\n",
              " 'Guanajuato': {'confirmed': 143637,\n",
              "  'deaths': 11265,\n",
              "  'lat': '21.019',\n",
              "  'long': '-101.2574',\n",
              "  'recovered': 0,\n",
              "  'updated': '2021/08/13 17:21:29+00'},\n",
              " 'Guerrero': {'confirmed': 58998,\n",
              "  'deaths': 5099,\n",
              "  'lat': '17.4392',\n",
              "  'long': '-99.5451',\n",
              "  'recovered': 0,\n",
              "  'updated': '2021/08/13 17:21:29+00'},\n",
              " 'Hidalgo': {'confirmed': 48203,\n",
              "  'deaths': 6585,\n",
              "  'lat': '20.0911',\n",
              "  'long': '-98.7624',\n",
              "  'recovered': 0,\n",
              "  'updated': '2021/08/13 17:21:29+00'},\n",
              " 'Jalisco': {'confirmed': 116718,\n",
              "  'deaths': 13656,\n",
              "  'lat': '20.6595',\n",
              "  'long': '-103.3494',\n",
              "  'recovered': 0,\n",
              "  'updated': '2021/08/13 17:21:29+00'},\n",
              " 'Mexico': {'confirmed': 311224,\n",
              "  'deaths': 39157,\n",
              "  'lat': '19.4969',\n",
              "  'long': '-99.7233',\n",
              "  'recovered': 0,\n",
              "  'updated': '2021/08/13 17:21:29+00'},\n",
              " 'Michoacan': {'confirmed': 57994,\n",
              "  'deaths': 6354,\n",
              "  'lat': '19.5665',\n",
              "  'long': '-101.7068',\n",
              "  'recovered': 0,\n",
              "  'updated': '2021/08/13 17:21:29+00'},\n",
              " 'Morelos': {'confirmed': 38993,\n",
              "  'deaths': 3704,\n",
              "  'lat': '18.6813',\n",
              "  'long': '-99.1013',\n",
              "  'recovered': 0,\n",
              "  'updated': '2021/08/13 17:21:29+00'},\n",
              " 'Nayarit': {'confirmed': 23836,\n",
              "  'deaths': 2170,\n",
              "  'lat': '21.7514',\n",
              "  'long': '-104.8455',\n",
              "  'recovered': 0,\n",
              "  'updated': '2021/08/13 17:21:29+00'},\n",
              " 'Nuevo Leon': {'confirmed': 155987,\n",
              "  'deaths': 10461,\n",
              "  'lat': '25.5922',\n",
              "  'long': '-99.9962',\n",
              "  'recovered': 0,\n",
              "  'updated': '2021/08/13 17:21:29+00'},\n",
              " 'Oaxaca': {'confirmed': 59273,\n",
              "  'deaths': 4264,\n",
              "  'lat': '17.0732',\n",
              "  'long': '-96.7266',\n",
              "  'recovered': 0,\n",
              "  'updated': '2021/08/13 17:21:29+00'},\n",
              " 'Puebla': {'confirmed': 96205,\n",
              "  'deaths': 12665,\n",
              "  'lat': '19.0414',\n",
              "  'long': '-98.2063',\n",
              "  'recovered': 0,\n",
              "  'updated': '2021/08/13 17:21:29+00'},\n",
              " 'Queretaro': {'confirmed': 77216,\n",
              "  'deaths': 4661,\n",
              "  'lat': '20.5888',\n",
              "  'long': '-100.3899',\n",
              "  'recovered': 0,\n",
              "  'updated': '2021/08/13 17:21:29+00'},\n",
              " 'Quintana Roo': {'confirmed': 48314,\n",
              "  'deaths': 3459,\n",
              "  'lat': '19.1817',\n",
              "  'long': '-88.4791',\n",
              "  'recovered': 0,\n",
              "  'updated': '2021/08/13 17:21:29+00'},\n",
              " 'San Luis Potosi': {'confirmed': 77536,\n",
              "  'deaths': 5585,\n",
              "  'lat': '22.1565',\n",
              "  'long': '-100.9855',\n",
              "  'recovered': 0,\n",
              "  'updated': '2021/08/13 17:21:29+00'},\n",
              " 'Sinaloa': {'confirmed': 62540,\n",
              "  'deaths': 7342,\n",
              "  'lat': '25.1721',\n",
              "  'long': '-107.4795',\n",
              "  'recovered': 0,\n",
              "  'updated': '2021/08/13 17:21:29+00'},\n",
              " 'Sonora': {'confirmed': 93177,\n",
              "  'deaths': 7212,\n",
              "  'lat': '29.2972',\n",
              "  'long': '-110.3309',\n",
              "  'recovered': 0,\n",
              "  'updated': '2021/08/13 17:21:29+00'},\n",
              " 'Tabasco': {'confirmed': 95050,\n",
              "  'deaths': 4538,\n",
              "  'lat': '17.8409',\n",
              "  'long': '-92.6189',\n",
              "  'recovered': 0,\n",
              "  'updated': '2021/08/13 17:21:29+00'},\n",
              " 'Tamaulipas': {'confirmed': 77540,\n",
              "  'deaths': 5607,\n",
              "  'lat': '24.2669',\n",
              "  'long': '-98.8363',\n",
              "  'recovered': 0,\n",
              "  'updated': '2021/08/13 17:21:29+00'},\n",
              " 'Tlaxcala': {'confirmed': 22507,\n",
              "  'deaths': 2626,\n",
              "  'lat': '19.3139',\n",
              "  'long': '-98.2404',\n",
              "  'recovered': 0,\n",
              "  'updated': '2021/08/13 17:21:29+00'},\n",
              " 'Unknown': {'confirmed': 0,\n",
              "  'deaths': 0,\n",
              "  'lat': '',\n",
              "  'long': '',\n",
              "  'recovered': 0,\n",
              "  'updated': '2021/08/13 17:21:29+00'},\n",
              " 'Veracruz': {'confirmed': 88954,\n",
              "  'deaths': 11114,\n",
              "  'lat': '19.1738',\n",
              "  'long': '-96.1342',\n",
              "  'recovered': 0,\n",
              "  'updated': '2021/08/13 17:21:29+00'},\n",
              " 'Yucatan': {'confirmed': 56968,\n",
              "  'deaths': 4674,\n",
              "  'lat': '20.7099',\n",
              "  'long': '-89.0943',\n",
              "  'recovered': 0,\n",
              "  'updated': '2021/08/13 17:21:29+00'},\n",
              " 'Zacatecas': {'confirmed': 35309,\n",
              "  'deaths': 2982,\n",
              "  'lat': '22.7709',\n",
              "  'long': '-102.5832',\n",
              "  'recovered': 0,\n",
              "  'updated': '2021/08/13 17:21:29+00'}}"
            ]
          },
          "metadata": {
            "tags": []
          },
          "execution_count": 9
        }
      ]
    },
    {
      "cell_type": "code",
      "metadata": {
        "id": "YNiFhoB4dJIo"
      },
      "source": [
        "#guardamos  nuestro json\n",
        "data=r.json()"
      ],
      "execution_count": null,
      "outputs": []
    },
    {
      "cell_type": "code",
      "metadata": {
        "colab": {
          "base_uri": "https://localhost:8080/"
        },
        "id": "iyBNSSdEdLcb",
        "outputId": "b21482a3-de20-4b10-c968-bdf014fcf510"
      },
      "source": [
        "#las keys son los estados dentro del pais\n",
        "data.keys()"
      ],
      "execution_count": null,
      "outputs": [
        {
          "output_type": "execute_result",
          "data": {
            "text/plain": [
              "dict_keys(['All', 'Aguascalientes', 'Baja California', 'Baja California Sur', 'Campeche', 'Chiapas', 'Chihuahua', 'Ciudad de Mexico', 'Coahuila', 'Colima', 'Durango', 'Guanajuato', 'Guerrero', 'Hidalgo', 'Jalisco', 'Mexico', 'Michoacan', 'Morelos', 'Nayarit', 'Nuevo Leon', 'Oaxaca', 'Puebla', 'Queretaro', 'Quintana Roo', 'San Luis Potosi', 'Sinaloa', 'Sonora', 'Tabasco', 'Tamaulipas', 'Tlaxcala', 'Unknown', 'Veracruz', 'Yucatan', 'Zacatecas'])"
            ]
          },
          "metadata": {
            "tags": []
          },
          "execution_count": 12
        }
      ]
    },
    {
      "cell_type": "code",
      "metadata": {
        "colab": {
          "base_uri": "https://localhost:8080/"
        },
        "id": "vuSiEXmddN7z",
        "outputId": "579ecd07-2627-441b-fe80-c9fe700b89dd"
      },
      "source": [
        "#filtramos un estado para conocer la informacion que tenemos\n",
        "data['Guanajuato']"
      ],
      "execution_count": null,
      "outputs": [
        {
          "output_type": "execute_result",
          "data": {
            "text/plain": [
              "{'confirmed': 143637,\n",
              " 'deaths': 11265,\n",
              " 'lat': '21.019',\n",
              " 'long': '-101.2574',\n",
              " 'recovered': 0,\n",
              " 'updated': '2021/08/13 17:21:29+00'}"
            ]
          },
          "metadata": {
            "tags": []
          },
          "execution_count": 13
        }
      ]
    },
    {
      "cell_type": "markdown",
      "metadata": {
        "id": "CEcNS_2xgKxE"
      },
      "source": [
        "# Creamos el dataset concatenando la informacion de los siguientes estados:\n",
        "\n",
        "- Guanajuato, Andrés y Juan\n",
        "- Nayarit, Arath\n",
        "- Estado de Mexico, Saul y Cesar\n",
        "- Yucatán, Sofía\n",
        "\n"
      ]
    },
    {
      "cell_type": "code",
      "metadata": {
        "id": "GlBZwzEscZUK"
      },
      "source": [
        "import pandas as pd"
      ],
      "execution_count": null,
      "outputs": []
    },
    {
      "cell_type": "code",
      "metadata": {
        "id": "WVRDWb0EsYFC"
      },
      "source": [
        "#lista  con los nombres de los estados de los ingrantes del equipo\n",
        "estados=['Guanajuato','Nayarit','Mexico','Yucatan']"
      ],
      "execution_count": null,
      "outputs": []
    },
    {
      "cell_type": "code",
      "metadata": {
        "id": "_AITpo_zqpvK"
      },
      "source": [
        "#creamos un dataframe vacio para concatenar los datos de cada estado\n",
        "df_covid_19=pd.DataFrame()"
      ],
      "execution_count": null,
      "outputs": []
    },
    {
      "cell_type": "code",
      "metadata": {
        "colab": {
          "base_uri": "https://localhost:8080/",
          "height": 173
        },
        "id": "AwnVDyikqyw5",
        "outputId": "1424aa4e-a230-4dc2-d734-b154097ec96e"
      },
      "source": [
        "#normalizamos los diccionarios, los convertimos en df y los concatenamos  \n",
        "\n",
        "#utilizamos el try, except en caso de que el nombre de un estado se escriba incorrectamente\n",
        "for estado in estados:\n",
        "  try:\n",
        "    normalized_estado=pd.json_normalize(data[estado])\n",
        "    df_estado=pd.DataFrame.from_dict(normalized_estado)\n",
        "    df_covid_19=pd.concat([df_covid_19,df_estado],axis=0)\n",
        "\n",
        "  except:\n",
        "    print('El nombre del estado es incorrecto')\n",
        "    estados.pop(estados.index(estado))\n",
        "\n",
        "df_covid_19"
      ],
      "execution_count": null,
      "outputs": [
        {
          "output_type": "execute_result",
          "data": {
            "text/html": [
              "<div>\n",
              "<style scoped>\n",
              "    .dataframe tbody tr th:only-of-type {\n",
              "        vertical-align: middle;\n",
              "    }\n",
              "\n",
              "    .dataframe tbody tr th {\n",
              "        vertical-align: top;\n",
              "    }\n",
              "\n",
              "    .dataframe thead th {\n",
              "        text-align: right;\n",
              "    }\n",
              "</style>\n",
              "<table border=\"1\" class=\"dataframe\">\n",
              "  <thead>\n",
              "    <tr style=\"text-align: right;\">\n",
              "      <th></th>\n",
              "      <th>lat</th>\n",
              "      <th>long</th>\n",
              "      <th>confirmed</th>\n",
              "      <th>recovered</th>\n",
              "      <th>deaths</th>\n",
              "      <th>updated</th>\n",
              "    </tr>\n",
              "  </thead>\n",
              "  <tbody>\n",
              "    <tr>\n",
              "      <th>0</th>\n",
              "      <td>21.019</td>\n",
              "      <td>-101.2574</td>\n",
              "      <td>143637</td>\n",
              "      <td>0</td>\n",
              "      <td>11265</td>\n",
              "      <td>2021/08/13 17:21:29+00</td>\n",
              "    </tr>\n",
              "    <tr>\n",
              "      <th>0</th>\n",
              "      <td>21.7514</td>\n",
              "      <td>-104.8455</td>\n",
              "      <td>23836</td>\n",
              "      <td>0</td>\n",
              "      <td>2170</td>\n",
              "      <td>2021/08/13 17:21:29+00</td>\n",
              "    </tr>\n",
              "    <tr>\n",
              "      <th>0</th>\n",
              "      <td>19.4969</td>\n",
              "      <td>-99.7233</td>\n",
              "      <td>311224</td>\n",
              "      <td>0</td>\n",
              "      <td>39157</td>\n",
              "      <td>2021/08/13 17:21:29+00</td>\n",
              "    </tr>\n",
              "    <tr>\n",
              "      <th>0</th>\n",
              "      <td>20.7099</td>\n",
              "      <td>-89.0943</td>\n",
              "      <td>56968</td>\n",
              "      <td>0</td>\n",
              "      <td>4674</td>\n",
              "      <td>2021/08/13 17:21:29+00</td>\n",
              "    </tr>\n",
              "  </tbody>\n",
              "</table>\n",
              "</div>"
            ],
            "text/plain": [
              "       lat       long  confirmed  recovered  deaths                 updated\n",
              "0   21.019  -101.2574     143637          0   11265  2021/08/13 17:21:29+00\n",
              "0  21.7514  -104.8455      23836          0    2170  2021/08/13 17:21:29+00\n",
              "0  19.4969   -99.7233     311224          0   39157  2021/08/13 17:21:29+00\n",
              "0  20.7099   -89.0943      56968          0    4674  2021/08/13 17:21:29+00"
            ]
          },
          "metadata": {
            "tags": []
          },
          "execution_count": 17
        }
      ]
    },
    {
      "cell_type": "code",
      "metadata": {
        "colab": {
          "base_uri": "https://localhost:8080/"
        },
        "id": "JNh34TWKSo4r",
        "outputId": "c1a5f9e9-b9dd-4b89-f740-678f8bd0829a"
      },
      "source": [
        "estados"
      ],
      "execution_count": null,
      "outputs": [
        {
          "output_type": "execute_result",
          "data": {
            "text/plain": [
              "['Guanajuato', 'Nayarit', 'Mexico', 'Yucatan']"
            ]
          },
          "metadata": {
            "tags": []
          },
          "execution_count": 18
        }
      ]
    },
    {
      "cell_type": "code",
      "metadata": {
        "colab": {
          "base_uri": "https://localhost:8080/",
          "height": 173
        },
        "id": "OU8GSI37dpSM",
        "outputId": "8a9e0273-58f8-4dfb-c4a8-af69b1b1abcb"
      },
      "source": [
        "#Agregamos una nueva columna al df con los nombres de los estados\n",
        "df_covid_19['state']=estados\n",
        "df_covid_19\n",
        "#las columnas lat y long no tienen importancia para nosotros\n",
        "#  la columna recovered si es importante pero la API la desprecia asi que tambien la omitimos"
      ],
      "execution_count": null,
      "outputs": [
        {
          "output_type": "execute_result",
          "data": {
            "text/html": [
              "<div>\n",
              "<style scoped>\n",
              "    .dataframe tbody tr th:only-of-type {\n",
              "        vertical-align: middle;\n",
              "    }\n",
              "\n",
              "    .dataframe tbody tr th {\n",
              "        vertical-align: top;\n",
              "    }\n",
              "\n",
              "    .dataframe thead th {\n",
              "        text-align: right;\n",
              "    }\n",
              "</style>\n",
              "<table border=\"1\" class=\"dataframe\">\n",
              "  <thead>\n",
              "    <tr style=\"text-align: right;\">\n",
              "      <th></th>\n",
              "      <th>lat</th>\n",
              "      <th>long</th>\n",
              "      <th>confirmed</th>\n",
              "      <th>recovered</th>\n",
              "      <th>deaths</th>\n",
              "      <th>updated</th>\n",
              "      <th>state</th>\n",
              "    </tr>\n",
              "  </thead>\n",
              "  <tbody>\n",
              "    <tr>\n",
              "      <th>0</th>\n",
              "      <td>21.019</td>\n",
              "      <td>-101.2574</td>\n",
              "      <td>143637</td>\n",
              "      <td>0</td>\n",
              "      <td>11265</td>\n",
              "      <td>2021/08/13 17:21:29+00</td>\n",
              "      <td>Guanajuato</td>\n",
              "    </tr>\n",
              "    <tr>\n",
              "      <th>0</th>\n",
              "      <td>21.7514</td>\n",
              "      <td>-104.8455</td>\n",
              "      <td>23836</td>\n",
              "      <td>0</td>\n",
              "      <td>2170</td>\n",
              "      <td>2021/08/13 17:21:29+00</td>\n",
              "      <td>Nayarit</td>\n",
              "    </tr>\n",
              "    <tr>\n",
              "      <th>0</th>\n",
              "      <td>19.4969</td>\n",
              "      <td>-99.7233</td>\n",
              "      <td>311224</td>\n",
              "      <td>0</td>\n",
              "      <td>39157</td>\n",
              "      <td>2021/08/13 17:21:29+00</td>\n",
              "      <td>Mexico</td>\n",
              "    </tr>\n",
              "    <tr>\n",
              "      <th>0</th>\n",
              "      <td>20.7099</td>\n",
              "      <td>-89.0943</td>\n",
              "      <td>56968</td>\n",
              "      <td>0</td>\n",
              "      <td>4674</td>\n",
              "      <td>2021/08/13 17:21:29+00</td>\n",
              "      <td>Yucatan</td>\n",
              "    </tr>\n",
              "  </tbody>\n",
              "</table>\n",
              "</div>"
            ],
            "text/plain": [
              "       lat       long  confirmed  ...  deaths                 updated       state\n",
              "0   21.019  -101.2574     143637  ...   11265  2021/08/13 17:21:29+00  Guanajuato\n",
              "0  21.7514  -104.8455      23836  ...    2170  2021/08/13 17:21:29+00     Nayarit\n",
              "0  19.4969   -99.7233     311224  ...   39157  2021/08/13 17:21:29+00      Mexico\n",
              "0  20.7099   -89.0943      56968  ...    4674  2021/08/13 17:21:29+00     Yucatan\n",
              "\n",
              "[4 rows x 7 columns]"
            ]
          },
          "metadata": {
            "tags": []
          },
          "execution_count": 19
        }
      ]
    },
    {
      "cell_type": "code",
      "metadata": {
        "colab": {
          "base_uri": "https://localhost:8080/",
          "height": 173
        },
        "id": "cIiFBo1MdroE",
        "outputId": "78692378-98b6-4690-c8cf-473f1a31e631"
      },
      "source": [
        "#Seleccionamos las columnas y el orden que necesitamos\n",
        "df_covid_19=df_covid_19[['state','updated','confirmed','deaths']]\n",
        "df_covid_19"
      ],
      "execution_count": null,
      "outputs": [
        {
          "output_type": "execute_result",
          "data": {
            "text/html": [
              "<div>\n",
              "<style scoped>\n",
              "    .dataframe tbody tr th:only-of-type {\n",
              "        vertical-align: middle;\n",
              "    }\n",
              "\n",
              "    .dataframe tbody tr th {\n",
              "        vertical-align: top;\n",
              "    }\n",
              "\n",
              "    .dataframe thead th {\n",
              "        text-align: right;\n",
              "    }\n",
              "</style>\n",
              "<table border=\"1\" class=\"dataframe\">\n",
              "  <thead>\n",
              "    <tr style=\"text-align: right;\">\n",
              "      <th></th>\n",
              "      <th>state</th>\n",
              "      <th>updated</th>\n",
              "      <th>confirmed</th>\n",
              "      <th>deaths</th>\n",
              "    </tr>\n",
              "  </thead>\n",
              "  <tbody>\n",
              "    <tr>\n",
              "      <th>0</th>\n",
              "      <td>Guanajuato</td>\n",
              "      <td>2021/08/13 17:21:29+00</td>\n",
              "      <td>143637</td>\n",
              "      <td>11265</td>\n",
              "    </tr>\n",
              "    <tr>\n",
              "      <th>0</th>\n",
              "      <td>Nayarit</td>\n",
              "      <td>2021/08/13 17:21:29+00</td>\n",
              "      <td>23836</td>\n",
              "      <td>2170</td>\n",
              "    </tr>\n",
              "    <tr>\n",
              "      <th>0</th>\n",
              "      <td>Mexico</td>\n",
              "      <td>2021/08/13 17:21:29+00</td>\n",
              "      <td>311224</td>\n",
              "      <td>39157</td>\n",
              "    </tr>\n",
              "    <tr>\n",
              "      <th>0</th>\n",
              "      <td>Yucatan</td>\n",
              "      <td>2021/08/13 17:21:29+00</td>\n",
              "      <td>56968</td>\n",
              "      <td>4674</td>\n",
              "    </tr>\n",
              "  </tbody>\n",
              "</table>\n",
              "</div>"
            ],
            "text/plain": [
              "        state                 updated  confirmed  deaths\n",
              "0  Guanajuato  2021/08/13 17:21:29+00     143637   11265\n",
              "0     Nayarit  2021/08/13 17:21:29+00      23836    2170\n",
              "0      Mexico  2021/08/13 17:21:29+00     311224   39157\n",
              "0     Yucatan  2021/08/13 17:21:29+00      56968    4674"
            ]
          },
          "metadata": {
            "tags": []
          },
          "execution_count": 20
        }
      ]
    },
    {
      "cell_type": "code",
      "metadata": {
        "colab": {
          "base_uri": "https://localhost:8080/"
        },
        "id": "xUYp8KMTePRY",
        "outputId": "204a0e14-053e-4f1f-debe-3fe3302f311d"
      },
      "source": [
        "# tenemos dos columnas tipo object y dos tipo int\n",
        "df_covid_19.info()"
      ],
      "execution_count": null,
      "outputs": [
        {
          "output_type": "stream",
          "text": [
            "<class 'pandas.core.frame.DataFrame'>\n",
            "Int64Index: 4 entries, 0 to 0\n",
            "Data columns (total 4 columns):\n",
            " #   Column     Non-Null Count  Dtype \n",
            "---  ------     --------------  ----- \n",
            " 0   state      4 non-null      object\n",
            " 1   updated    4 non-null      object\n",
            " 2   confirmed  4 non-null      int64 \n",
            " 3   deaths     4 non-null      int64 \n",
            "dtypes: int64(2), object(2)\n",
            "memory usage: 160.0+ bytes\n"
          ],
          "name": "stdout"
        }
      ]
    },
    {
      "cell_type": "code",
      "metadata": {
        "colab": {
          "base_uri": "https://localhost:8080/",
          "height": 173
        },
        "id": "Ss3sptYpj1S6",
        "outputId": "bdbc99bb-5b4f-4269-d118-c76be123ae89"
      },
      "source": [
        "#cambiamos el indice en nuestro df para que no sean todos 0\n",
        "#utilizamos esta estructura para no tener que modificar el codigo si es necesario ingresar un nuevo estado\n",
        "indices=[estado +1 for estado in range(len(estados))]\n",
        "df_covid_19.index=indices\n",
        "df_covid_19"
      ],
      "execution_count": null,
      "outputs": [
        {
          "output_type": "execute_result",
          "data": {
            "text/html": [
              "<div>\n",
              "<style scoped>\n",
              "    .dataframe tbody tr th:only-of-type {\n",
              "        vertical-align: middle;\n",
              "    }\n",
              "\n",
              "    .dataframe tbody tr th {\n",
              "        vertical-align: top;\n",
              "    }\n",
              "\n",
              "    .dataframe thead th {\n",
              "        text-align: right;\n",
              "    }\n",
              "</style>\n",
              "<table border=\"1\" class=\"dataframe\">\n",
              "  <thead>\n",
              "    <tr style=\"text-align: right;\">\n",
              "      <th></th>\n",
              "      <th>state</th>\n",
              "      <th>updated</th>\n",
              "      <th>confirmed</th>\n",
              "      <th>deaths</th>\n",
              "    </tr>\n",
              "  </thead>\n",
              "  <tbody>\n",
              "    <tr>\n",
              "      <th>1</th>\n",
              "      <td>Guanajuato</td>\n",
              "      <td>2021/08/13 17:21:29+00</td>\n",
              "      <td>143637</td>\n",
              "      <td>11265</td>\n",
              "    </tr>\n",
              "    <tr>\n",
              "      <th>2</th>\n",
              "      <td>Nayarit</td>\n",
              "      <td>2021/08/13 17:21:29+00</td>\n",
              "      <td>23836</td>\n",
              "      <td>2170</td>\n",
              "    </tr>\n",
              "    <tr>\n",
              "      <th>3</th>\n",
              "      <td>Mexico</td>\n",
              "      <td>2021/08/13 17:21:29+00</td>\n",
              "      <td>311224</td>\n",
              "      <td>39157</td>\n",
              "    </tr>\n",
              "    <tr>\n",
              "      <th>4</th>\n",
              "      <td>Yucatan</td>\n",
              "      <td>2021/08/13 17:21:29+00</td>\n",
              "      <td>56968</td>\n",
              "      <td>4674</td>\n",
              "    </tr>\n",
              "  </tbody>\n",
              "</table>\n",
              "</div>"
            ],
            "text/plain": [
              "        state                 updated  confirmed  deaths\n",
              "1  Guanajuato  2021/08/13 17:21:29+00     143637   11265\n",
              "2     Nayarit  2021/08/13 17:21:29+00      23836    2170\n",
              "3      Mexico  2021/08/13 17:21:29+00     311224   39157\n",
              "4     Yucatan  2021/08/13 17:21:29+00      56968    4674"
            ]
          },
          "metadata": {
            "tags": []
          },
          "execution_count": 22
        }
      ]
    },
    {
      "cell_type": "markdown",
      "metadata": {
        "id": "5SBBbOQKiQBN"
      },
      "source": [
        "**La fecha de actualizacion tambien tiene la hora, pero solo nos interesa la fecha**"
      ]
    },
    {
      "cell_type": "code",
      "metadata": {
        "colab": {
          "base_uri": "https://localhost:8080/",
          "height": 173
        },
        "id": "30zt0iLVgcvA",
        "outputId": "bb0f63a2-e052-4234-fdb4-8ecf48857e26"
      },
      "source": [
        "#separamos la fecha y la hora de nuestro df en 2 columnas distintas\n",
        "df_covid_19['updated'].str.split('\\s',expand=True)"
      ],
      "execution_count": null,
      "outputs": [
        {
          "output_type": "execute_result",
          "data": {
            "text/html": [
              "<div>\n",
              "<style scoped>\n",
              "    .dataframe tbody tr th:only-of-type {\n",
              "        vertical-align: middle;\n",
              "    }\n",
              "\n",
              "    .dataframe tbody tr th {\n",
              "        vertical-align: top;\n",
              "    }\n",
              "\n",
              "    .dataframe thead th {\n",
              "        text-align: right;\n",
              "    }\n",
              "</style>\n",
              "<table border=\"1\" class=\"dataframe\">\n",
              "  <thead>\n",
              "    <tr style=\"text-align: right;\">\n",
              "      <th></th>\n",
              "      <th>0</th>\n",
              "      <th>1</th>\n",
              "    </tr>\n",
              "  </thead>\n",
              "  <tbody>\n",
              "    <tr>\n",
              "      <th>1</th>\n",
              "      <td>2021/08/13</td>\n",
              "      <td>17:21:29+00</td>\n",
              "    </tr>\n",
              "    <tr>\n",
              "      <th>2</th>\n",
              "      <td>2021/08/13</td>\n",
              "      <td>17:21:29+00</td>\n",
              "    </tr>\n",
              "    <tr>\n",
              "      <th>3</th>\n",
              "      <td>2021/08/13</td>\n",
              "      <td>17:21:29+00</td>\n",
              "    </tr>\n",
              "    <tr>\n",
              "      <th>4</th>\n",
              "      <td>2021/08/13</td>\n",
              "      <td>17:21:29+00</td>\n",
              "    </tr>\n",
              "  </tbody>\n",
              "</table>\n",
              "</div>"
            ],
            "text/plain": [
              "            0            1\n",
              "1  2021/08/13  17:21:29+00\n",
              "2  2021/08/13  17:21:29+00\n",
              "3  2021/08/13  17:21:29+00\n",
              "4  2021/08/13  17:21:29+00"
            ]
          },
          "metadata": {
            "tags": []
          },
          "execution_count": 23
        }
      ]
    },
    {
      "cell_type": "code",
      "metadata": {
        "id": "ZQxqkjuwiw8f"
      },
      "source": [
        "#asignamos solamente la columna fecha a nuestro df\n",
        "df_covid_19['updated']=df_covid_19['updated'].str.split('\\s',expand=True)[0]"
      ],
      "execution_count": null,
      "outputs": []
    },
    {
      "cell_type": "code",
      "metadata": {
        "colab": {
          "base_uri": "https://localhost:8080/",
          "height": 173
        },
        "id": "EqBkiJ707NTf",
        "outputId": "3cea8aec-0498-4a40-826f-02e257d5dca7"
      },
      "source": [
        "df_covid_19"
      ],
      "execution_count": null,
      "outputs": [
        {
          "output_type": "execute_result",
          "data": {
            "text/html": [
              "<div>\n",
              "<style scoped>\n",
              "    .dataframe tbody tr th:only-of-type {\n",
              "        vertical-align: middle;\n",
              "    }\n",
              "\n",
              "    .dataframe tbody tr th {\n",
              "        vertical-align: top;\n",
              "    }\n",
              "\n",
              "    .dataframe thead th {\n",
              "        text-align: right;\n",
              "    }\n",
              "</style>\n",
              "<table border=\"1\" class=\"dataframe\">\n",
              "  <thead>\n",
              "    <tr style=\"text-align: right;\">\n",
              "      <th></th>\n",
              "      <th>state</th>\n",
              "      <th>updated</th>\n",
              "      <th>confirmed</th>\n",
              "      <th>deaths</th>\n",
              "    </tr>\n",
              "  </thead>\n",
              "  <tbody>\n",
              "    <tr>\n",
              "      <th>1</th>\n",
              "      <td>Guanajuato</td>\n",
              "      <td>2021/08/13</td>\n",
              "      <td>143637</td>\n",
              "      <td>11265</td>\n",
              "    </tr>\n",
              "    <tr>\n",
              "      <th>2</th>\n",
              "      <td>Nayarit</td>\n",
              "      <td>2021/08/13</td>\n",
              "      <td>23836</td>\n",
              "      <td>2170</td>\n",
              "    </tr>\n",
              "    <tr>\n",
              "      <th>3</th>\n",
              "      <td>Mexico</td>\n",
              "      <td>2021/08/13</td>\n",
              "      <td>311224</td>\n",
              "      <td>39157</td>\n",
              "    </tr>\n",
              "    <tr>\n",
              "      <th>4</th>\n",
              "      <td>Yucatan</td>\n",
              "      <td>2021/08/13</td>\n",
              "      <td>56968</td>\n",
              "      <td>4674</td>\n",
              "    </tr>\n",
              "  </tbody>\n",
              "</table>\n",
              "</div>"
            ],
            "text/plain": [
              "        state     updated  confirmed  deaths\n",
              "1  Guanajuato  2021/08/13     143637   11265\n",
              "2     Nayarit  2021/08/13      23836    2170\n",
              "3      Mexico  2021/08/13     311224   39157\n",
              "4     Yucatan  2021/08/13      56968    4674"
            ]
          },
          "metadata": {
            "tags": []
          },
          "execution_count": 26
        }
      ]
    },
    {
      "cell_type": "markdown",
      "metadata": {
        "id": "je6FfPoLdDUR"
      },
      "source": [
        "### **Agregamos la columna extra para conocer la tasa de letalidad del COVID-19 en cada estado**\n",
        "\n",
        "**La tasa de letalidad**\n",
        "\n",
        "\"Es el cociente entre el número de fallecimientos a causa de una determinada enfermedad en un período de tiempo y el número de afectados por esa misma enfermedad en ese mismo período\"."
      ]
    },
    {
      "cell_type": "code",
      "metadata": {
        "colab": {
          "base_uri": "https://localhost:8080/"
        },
        "id": "3kjtJ_t8xURX",
        "outputId": "c8d85aa8-87d3-45ee-a958-0126ed9d660c"
      },
      "source": [
        "#obtenemos una lista con la tasa de letalidad para cada estado\n",
        "\n",
        "#lista vacia para guardar los valores\n",
        "fatality_rate_list=[]\n",
        "#funcion para calcular la letaldad\n",
        "def fatality_rate_function():\n",
        "  for indice in indices: \n",
        "    fatality_rate_list.append((df_covid_19['deaths'][indice]/df_covid_19['confirmed'][indice])*100)\n",
        "\n",
        "#llamamos a la funcion\n",
        "fatality_rate_function()\n",
        "#lista final\n",
        "fatality_rate_list\n"
      ],
      "execution_count": null,
      "outputs": [
        {
          "output_type": "execute_result",
          "data": {
            "text/plain": [
              "[7.842686772906703, 9.10387648934385, 12.581613243194612, 8.204606094649627]"
            ]
          },
          "metadata": {
            "tags": []
          },
          "execution_count": 28
        }
      ]
    },
    {
      "cell_type": "code",
      "metadata": {
        "id": "rfCJUaM_3dOx"
      },
      "source": [
        "#tenemos muchos decimales, redondearemos nuestro resultado a los primeros 3\n",
        "#para ello utilizaremos numpy \n",
        "import numpy as np\n"
      ],
      "execution_count": null,
      "outputs": []
    },
    {
      "cell_type": "code",
      "metadata": {
        "colab": {
          "base_uri": "https://localhost:8080/"
        },
        "id": "yJvGNnnl3nwN",
        "outputId": "2739a45a-4790-499c-d993-cb8db7ac3d1f"
      },
      "source": [
        "fatality_rate_list=np.round(fatality_rate_list,3)\n",
        "fatality_rate_list"
      ],
      "execution_count": null,
      "outputs": [
        {
          "output_type": "execute_result",
          "data": {
            "text/plain": [
              "array([ 7.843,  9.104, 12.582,  8.205])"
            ]
          },
          "metadata": {
            "tags": []
          },
          "execution_count": 30
        }
      ]
    },
    {
      "cell_type": "code",
      "metadata": {
        "id": "1eWUxHcZlUEO"
      },
      "source": [
        "#agregamos la nueva columna a nuestro df\n",
        "df_covid_19['case_fatality_rate(%)']=fatality_rate_list"
      ],
      "execution_count": null,
      "outputs": []
    },
    {
      "cell_type": "code",
      "metadata": {
        "colab": {
          "base_uri": "https://localhost:8080/",
          "height": 173
        },
        "id": "DVecEwlLjLyV",
        "outputId": "90396822-ee02-4783-aca9-8da9bfb5927c"
      },
      "source": [
        "#ya tenemos nuestro df limpio y ordenado con la nueva columna que nos indica la tasa de letalidad en cada uno de nuestros estados\n",
        "df_covid_19"
      ],
      "execution_count": null,
      "outputs": [
        {
          "output_type": "execute_result",
          "data": {
            "text/html": [
              "<div>\n",
              "<style scoped>\n",
              "    .dataframe tbody tr th:only-of-type {\n",
              "        vertical-align: middle;\n",
              "    }\n",
              "\n",
              "    .dataframe tbody tr th {\n",
              "        vertical-align: top;\n",
              "    }\n",
              "\n",
              "    .dataframe thead th {\n",
              "        text-align: right;\n",
              "    }\n",
              "</style>\n",
              "<table border=\"1\" class=\"dataframe\">\n",
              "  <thead>\n",
              "    <tr style=\"text-align: right;\">\n",
              "      <th></th>\n",
              "      <th>state</th>\n",
              "      <th>updated</th>\n",
              "      <th>confirmed</th>\n",
              "      <th>deaths</th>\n",
              "      <th>case_fatality_rate(%)</th>\n",
              "    </tr>\n",
              "  </thead>\n",
              "  <tbody>\n",
              "    <tr>\n",
              "      <th>1</th>\n",
              "      <td>Guanajuato</td>\n",
              "      <td>2021/08/13</td>\n",
              "      <td>143637</td>\n",
              "      <td>11265</td>\n",
              "      <td>7.843</td>\n",
              "    </tr>\n",
              "    <tr>\n",
              "      <th>2</th>\n",
              "      <td>Nayarit</td>\n",
              "      <td>2021/08/13</td>\n",
              "      <td>23836</td>\n",
              "      <td>2170</td>\n",
              "      <td>9.104</td>\n",
              "    </tr>\n",
              "    <tr>\n",
              "      <th>3</th>\n",
              "      <td>Mexico</td>\n",
              "      <td>2021/08/13</td>\n",
              "      <td>311224</td>\n",
              "      <td>39157</td>\n",
              "      <td>12.582</td>\n",
              "    </tr>\n",
              "    <tr>\n",
              "      <th>4</th>\n",
              "      <td>Yucatan</td>\n",
              "      <td>2021/08/13</td>\n",
              "      <td>56968</td>\n",
              "      <td>4674</td>\n",
              "      <td>8.205</td>\n",
              "    </tr>\n",
              "  </tbody>\n",
              "</table>\n",
              "</div>"
            ],
            "text/plain": [
              "        state     updated  confirmed  deaths  case_fatality_rate(%)\n",
              "1  Guanajuato  2021/08/13     143637   11265                  7.843\n",
              "2     Nayarit  2021/08/13      23836    2170                  9.104\n",
              "3      Mexico  2021/08/13     311224   39157                 12.582\n",
              "4     Yucatan  2021/08/13      56968    4674                  8.205"
            ]
          },
          "metadata": {
            "tags": []
          },
          "execution_count": 32
        }
      ]
    }
  ]
}