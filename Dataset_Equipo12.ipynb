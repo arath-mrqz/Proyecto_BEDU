{
  "nbformat": 4,
  "nbformat_minor": 0,
  "metadata": {
    "colab": {
      "name": "Dataset_Equipo12.ipynb",
      "provenance": []
    },
    "kernelspec": {
      "name": "python3",
      "display_name": "Python 3"
    },
    "language_info": {
      "name": "python"
    }
  },
  "cells": [
    {
      "cell_type": "markdown",
      "metadata": {
        "id": "Thmpiy5f2vCR"
      },
      "source": [
        "## 1. Librerías"
      ]
    },
    {
      "cell_type": "code",
      "metadata": {
        "id": "cvaSD7io3k77"
      },
      "source": [
        "import pandas as pd"
      ],
      "execution_count": null,
      "outputs": []
    },
    {
      "cell_type": "code",
      "metadata": {
        "id": "sFLMU0oz4AiK",
        "colab": {
          "base_uri": "https://localhost:8080/"
        },
        "outputId": "98cfb8f9-fd98-4e3f-904d-8eb143b08dde"
      },
      "source": [
        "from google.colab import drive\n",
        "drive.mount('/content/drive')"
      ],
      "execution_count": null,
      "outputs": [
        {
          "output_type": "stream",
          "text": [
            "Mounted at /content/drive\n"
          ],
          "name": "stdout"
        }
      ]
    },
    {
      "cell_type": "markdown",
      "metadata": {
        "id": "M6Xp_INM_j9X"
      },
      "source": [
        "## 2. Cargar los datos"
      ]
    },
    {
      "cell_type": "code",
      "metadata": {
        "id": "FLrOUnST3QQ8"
      },
      "source": [
        "#df = pd.read_csv('/content/drive/MyDrive/BEDU/AnxietyPTSD-Data.csv', encoding='cp1252')\n",
        "df = pd.read_csv('/content/drive/MyDrive/BEDU/COVID-19 Survey Student Responses.csv')"
      ],
      "execution_count": null,
      "outputs": []
    },
    {
      "cell_type": "markdown",
      "metadata": {
        "id": "yMMw4FAj5I-O"
      },
      "source": [
        "## 3. Análisis exploratorio de datos"
      ]
    },
    {
      "cell_type": "code",
      "metadata": {
        "colab": {
          "base_uri": "https://localhost:8080/",
          "height": 521
        },
        "id": "rQ8UFNGk_yEZ",
        "outputId": "447e429d-b93e-4cf2-8106-9a36ac756e75"
      },
      "source": [
        "df.head()"
      ],
      "execution_count": null,
      "outputs": [
        {
          "output_type": "execute_result",
          "data": {
            "text/html": [
              "<div>\n",
              "<style scoped>\n",
              "    .dataframe tbody tr th:only-of-type {\n",
              "        vertical-align: middle;\n",
              "    }\n",
              "\n",
              "    .dataframe tbody tr th {\n",
              "        vertical-align: top;\n",
              "    }\n",
              "\n",
              "    .dataframe thead th {\n",
              "        text-align: right;\n",
              "    }\n",
              "</style>\n",
              "<table border=\"1\" class=\"dataframe\">\n",
              "  <thead>\n",
              "    <tr style=\"text-align: right;\">\n",
              "      <th></th>\n",
              "      <th>ID</th>\n",
              "      <th>Region of residence</th>\n",
              "      <th>Age of Subject</th>\n",
              "      <th>Time spent on Online Class</th>\n",
              "      <th>Rating of Online Class experience</th>\n",
              "      <th>Medium for online class</th>\n",
              "      <th>Time spent on self study</th>\n",
              "      <th>Time spent on fitness</th>\n",
              "      <th>Time spent on sleep</th>\n",
              "      <th>Time spent on social media</th>\n",
              "      <th>Prefered social media platform</th>\n",
              "      <th>Time spent on TV</th>\n",
              "      <th>Number of meals per day</th>\n",
              "      <th>Change in your weight</th>\n",
              "      <th>Health issue during lockdown</th>\n",
              "      <th>Stress busters</th>\n",
              "      <th>Time utilized</th>\n",
              "      <th>Do you find yourself more connected with your family, close friends , relatives  ?</th>\n",
              "      <th>What you miss the most</th>\n",
              "    </tr>\n",
              "  </thead>\n",
              "  <tbody>\n",
              "    <tr>\n",
              "      <th>0</th>\n",
              "      <td>R1</td>\n",
              "      <td>Delhi-NCR</td>\n",
              "      <td>21</td>\n",
              "      <td>2.0</td>\n",
              "      <td>Good</td>\n",
              "      <td>Laptop/Desktop</td>\n",
              "      <td>4.0</td>\n",
              "      <td>0.0</td>\n",
              "      <td>7.0</td>\n",
              "      <td>3.0</td>\n",
              "      <td>Linkedin</td>\n",
              "      <td>1</td>\n",
              "      <td>4</td>\n",
              "      <td>Increased</td>\n",
              "      <td>NO</td>\n",
              "      <td>Cooking</td>\n",
              "      <td>YES</td>\n",
              "      <td>YES</td>\n",
              "      <td>School/college</td>\n",
              "    </tr>\n",
              "    <tr>\n",
              "      <th>1</th>\n",
              "      <td>R2</td>\n",
              "      <td>Delhi-NCR</td>\n",
              "      <td>21</td>\n",
              "      <td>0.0</td>\n",
              "      <td>Excellent</td>\n",
              "      <td>Smartphone</td>\n",
              "      <td>0.0</td>\n",
              "      <td>2.0</td>\n",
              "      <td>10.0</td>\n",
              "      <td>3.0</td>\n",
              "      <td>Youtube</td>\n",
              "      <td>0</td>\n",
              "      <td>3</td>\n",
              "      <td>Decreased</td>\n",
              "      <td>NO</td>\n",
              "      <td>Scrolling through social media</td>\n",
              "      <td>YES</td>\n",
              "      <td>NO</td>\n",
              "      <td>Roaming around freely</td>\n",
              "    </tr>\n",
              "    <tr>\n",
              "      <th>2</th>\n",
              "      <td>R3</td>\n",
              "      <td>Delhi-NCR</td>\n",
              "      <td>20</td>\n",
              "      <td>7.0</td>\n",
              "      <td>Very poor</td>\n",
              "      <td>Laptop/Desktop</td>\n",
              "      <td>3.0</td>\n",
              "      <td>0.0</td>\n",
              "      <td>6.0</td>\n",
              "      <td>2.0</td>\n",
              "      <td>Linkedin</td>\n",
              "      <td>0</td>\n",
              "      <td>3</td>\n",
              "      <td>Remain Constant</td>\n",
              "      <td>NO</td>\n",
              "      <td>Listening to music</td>\n",
              "      <td>NO</td>\n",
              "      <td>YES</td>\n",
              "      <td>Travelling</td>\n",
              "    </tr>\n",
              "    <tr>\n",
              "      <th>3</th>\n",
              "      <td>R4</td>\n",
              "      <td>Delhi-NCR</td>\n",
              "      <td>20</td>\n",
              "      <td>3.0</td>\n",
              "      <td>Very poor</td>\n",
              "      <td>Smartphone</td>\n",
              "      <td>2.0</td>\n",
              "      <td>1.0</td>\n",
              "      <td>6.0</td>\n",
              "      <td>5.0</td>\n",
              "      <td>Instagram</td>\n",
              "      <td>0</td>\n",
              "      <td>3</td>\n",
              "      <td>Decreased</td>\n",
              "      <td>NO</td>\n",
              "      <td>Watching web series</td>\n",
              "      <td>NO</td>\n",
              "      <td>NO</td>\n",
              "      <td>Friends , relatives</td>\n",
              "    </tr>\n",
              "    <tr>\n",
              "      <th>4</th>\n",
              "      <td>R5</td>\n",
              "      <td>Delhi-NCR</td>\n",
              "      <td>21</td>\n",
              "      <td>3.0</td>\n",
              "      <td>Good</td>\n",
              "      <td>Laptop/Desktop</td>\n",
              "      <td>3.0</td>\n",
              "      <td>1.0</td>\n",
              "      <td>8.0</td>\n",
              "      <td>3.0</td>\n",
              "      <td>Instagram</td>\n",
              "      <td>1</td>\n",
              "      <td>4</td>\n",
              "      <td>Remain Constant</td>\n",
              "      <td>NO</td>\n",
              "      <td>Social Media</td>\n",
              "      <td>NO</td>\n",
              "      <td>NO</td>\n",
              "      <td>Travelling</td>\n",
              "    </tr>\n",
              "  </tbody>\n",
              "</table>\n",
              "</div>"
            ],
            "text/plain": [
              "   ID  ... What you miss the most\n",
              "0  R1  ...         School/college\n",
              "1  R2  ...  Roaming around freely\n",
              "2  R3  ...             Travelling\n",
              "3  R4  ...    Friends , relatives\n",
              "4  R5  ...             Travelling\n",
              "\n",
              "[5 rows x 19 columns]"
            ]
          },
          "metadata": {
            "tags": []
          },
          "execution_count": 4
        }
      ]
    },
    {
      "cell_type": "code",
      "metadata": {
        "colab": {
          "base_uri": "https://localhost:8080/",
          "height": 469
        },
        "id": "yobtdefx5WNV",
        "outputId": "bce8cdfd-0c77-4438-ed7f-ec5606018fb8"
      },
      "source": [
        "df.tail()"
      ],
      "execution_count": null,
      "outputs": [
        {
          "output_type": "execute_result",
          "data": {
            "text/html": [
              "<div>\n",
              "<style scoped>\n",
              "    .dataframe tbody tr th:only-of-type {\n",
              "        vertical-align: middle;\n",
              "    }\n",
              "\n",
              "    .dataframe tbody tr th {\n",
              "        vertical-align: top;\n",
              "    }\n",
              "\n",
              "    .dataframe thead th {\n",
              "        text-align: right;\n",
              "    }\n",
              "</style>\n",
              "<table border=\"1\" class=\"dataframe\">\n",
              "  <thead>\n",
              "    <tr style=\"text-align: right;\">\n",
              "      <th></th>\n",
              "      <th>ID</th>\n",
              "      <th>Region of residence</th>\n",
              "      <th>Age of Subject</th>\n",
              "      <th>Time spent on Online Class</th>\n",
              "      <th>Rating of Online Class experience</th>\n",
              "      <th>Medium for online class</th>\n",
              "      <th>Time spent on self study</th>\n",
              "      <th>Time spent on fitness</th>\n",
              "      <th>Time spent on sleep</th>\n",
              "      <th>Time spent on social media</th>\n",
              "      <th>Prefered social media platform</th>\n",
              "      <th>Time spent on TV</th>\n",
              "      <th>Number of meals per day</th>\n",
              "      <th>Change in your weight</th>\n",
              "      <th>Health issue during lockdown</th>\n",
              "      <th>Stress busters</th>\n",
              "      <th>Time utilized</th>\n",
              "      <th>Do you find yourself more connected with your family, close friends , relatives  ?</th>\n",
              "      <th>What you miss the most</th>\n",
              "    </tr>\n",
              "  </thead>\n",
              "  <tbody>\n",
              "    <tr>\n",
              "      <th>1177</th>\n",
              "      <td>R1191</td>\n",
              "      <td>Delhi-NCR</td>\n",
              "      <td>12</td>\n",
              "      <td>3.0</td>\n",
              "      <td>Good</td>\n",
              "      <td>Smartphone</td>\n",
              "      <td>4.0</td>\n",
              "      <td>1.0</td>\n",
              "      <td>8.0</td>\n",
              "      <td>1.0</td>\n",
              "      <td>Instagram</td>\n",
              "      <td>2</td>\n",
              "      <td>3</td>\n",
              "      <td>Decreased</td>\n",
              "      <td>NO</td>\n",
              "      <td>Dancing</td>\n",
              "      <td>YES</td>\n",
              "      <td>YES</td>\n",
              "      <td>Travelling</td>\n",
              "    </tr>\n",
              "    <tr>\n",
              "      <th>1178</th>\n",
              "      <td>R1192</td>\n",
              "      <td>Delhi-NCR</td>\n",
              "      <td>14</td>\n",
              "      <td>6.0</td>\n",
              "      <td>Average</td>\n",
              "      <td>Smartphone</td>\n",
              "      <td>4.0</td>\n",
              "      <td>1.0</td>\n",
              "      <td>9.0</td>\n",
              "      <td>1.0</td>\n",
              "      <td>Whatsapp</td>\n",
              "      <td>1</td>\n",
              "      <td>4</td>\n",
              "      <td>Remain Constant</td>\n",
              "      <td>NO</td>\n",
              "      <td>Listening to music</td>\n",
              "      <td>YES</td>\n",
              "      <td>YES</td>\n",
              "      <td>Friends , relatives</td>\n",
              "    </tr>\n",
              "    <tr>\n",
              "      <th>1179</th>\n",
              "      <td>R1193</td>\n",
              "      <td>Delhi-NCR</td>\n",
              "      <td>13</td>\n",
              "      <td>4.0</td>\n",
              "      <td>Average</td>\n",
              "      <td>Smartphone</td>\n",
              "      <td>0.0</td>\n",
              "      <td>0.5</td>\n",
              "      <td>8.0</td>\n",
              "      <td>3.0</td>\n",
              "      <td>Youtube</td>\n",
              "      <td>2</td>\n",
              "      <td>4</td>\n",
              "      <td>Decreased</td>\n",
              "      <td>NO</td>\n",
              "      <td>Online gaming</td>\n",
              "      <td>NO</td>\n",
              "      <td>YES</td>\n",
              "      <td>School/college</td>\n",
              "    </tr>\n",
              "    <tr>\n",
              "      <th>1180</th>\n",
              "      <td>R1194</td>\n",
              "      <td>Delhi-NCR</td>\n",
              "      <td>14</td>\n",
              "      <td>5.0</td>\n",
              "      <td>Excellent</td>\n",
              "      <td>Laptop/Desktop</td>\n",
              "      <td>3.5</td>\n",
              "      <td>1.0</td>\n",
              "      <td>8.0</td>\n",
              "      <td>0.5</td>\n",
              "      <td>Youtube</td>\n",
              "      <td>1</td>\n",
              "      <td>4</td>\n",
              "      <td>Remain Constant</td>\n",
              "      <td>NO</td>\n",
              "      <td>Reading books</td>\n",
              "      <td>YES</td>\n",
              "      <td>YES</td>\n",
              "      <td>School/college</td>\n",
              "    </tr>\n",
              "    <tr>\n",
              "      <th>1181</th>\n",
              "      <td>R1195</td>\n",
              "      <td>Delhi-NCR</td>\n",
              "      <td>13</td>\n",
              "      <td>5.0</td>\n",
              "      <td>Good</td>\n",
              "      <td>Tablet</td>\n",
              "      <td>2.0</td>\n",
              "      <td>0.5</td>\n",
              "      <td>7.0</td>\n",
              "      <td>1.0</td>\n",
              "      <td>Whatsapp</td>\n",
              "      <td>1</td>\n",
              "      <td>3</td>\n",
              "      <td>Remain Constant</td>\n",
              "      <td>NO</td>\n",
              "      <td>Talking</td>\n",
              "      <td>YES</td>\n",
              "      <td>YES</td>\n",
              "      <td>School/college</td>\n",
              "    </tr>\n",
              "  </tbody>\n",
              "</table>\n",
              "</div>"
            ],
            "text/plain": [
              "         ID  ... What you miss the most\n",
              "1177  R1191  ...             Travelling\n",
              "1178  R1192  ...    Friends , relatives\n",
              "1179  R1193  ...         School/college\n",
              "1180  R1194  ...         School/college\n",
              "1181  R1195  ...         School/college\n",
              "\n",
              "[5 rows x 19 columns]"
            ]
          },
          "metadata": {
            "tags": []
          },
          "execution_count": 5
        }
      ]
    },
    {
      "cell_type": "code",
      "metadata": {
        "colab": {
          "base_uri": "https://localhost:8080/"
        },
        "id": "XGAfprSW6xHc",
        "outputId": "31272072-0842-48e7-b2b6-9ea2e8b1ba6f"
      },
      "source": [
        "df.size"
      ],
      "execution_count": null,
      "outputs": [
        {
          "output_type": "execute_result",
          "data": {
            "text/plain": [
              "22458"
            ]
          },
          "metadata": {
            "tags": []
          },
          "execution_count": 12
        }
      ]
    },
    {
      "cell_type": "code",
      "metadata": {
        "colab": {
          "base_uri": "https://localhost:8080/"
        },
        "id": "zd9JxlCY6zI5",
        "outputId": "53d92c0c-d511-439a-eb8b-5771d135ef38"
      },
      "source": [
        "df.dtypes"
      ],
      "execution_count": null,
      "outputs": [
        {
          "output_type": "execute_result",
          "data": {
            "text/plain": [
              "ID                                                                                     object\n",
              "Region of residence                                                                    object\n",
              "Age of Subject                                                                          int64\n",
              "Time spent on Online Class                                                            float64\n",
              "Rating of Online Class experience                                                      object\n",
              "Medium for online class                                                                object\n",
              "Time spent on self study                                                              float64\n",
              "Time spent on fitness                                                                 float64\n",
              "Time spent on sleep                                                                   float64\n",
              "Time spent on social media                                                            float64\n",
              "Prefered social media platform                                                         object\n",
              "Time spent on TV                                                                       object\n",
              "Number of meals per day                                                                 int64\n",
              "Change in your weight                                                                  object\n",
              "Health issue during lockdown                                                           object\n",
              "Stress busters                                                                         object\n",
              "Time utilized                                                                          object\n",
              "Do you find yourself more connected with your family, close friends , relatives  ?     object\n",
              "What you miss the most                                                                 object\n",
              "dtype: object"
            ]
          },
          "metadata": {
            "tags": []
          },
          "execution_count": 7
        }
      ]
    },
    {
      "cell_type": "code",
      "metadata": {
        "colab": {
          "base_uri": "https://localhost:8080/"
        },
        "id": "YGTqzfFg7M8Q",
        "outputId": "d7f4c271-4017-42a5-b7d3-c529c8171900"
      },
      "source": [
        "df.columns"
      ],
      "execution_count": null,
      "outputs": [
        {
          "output_type": "execute_result",
          "data": {
            "text/plain": [
              "Index(['ID', 'Region of residence', 'Age of Subject',\n",
              "       'Time spent on Online Class', 'Rating of Online Class experience',\n",
              "       'Medium for online class', 'Time spent on self study',\n",
              "       'Time spent on fitness', 'Time spent on sleep',\n",
              "       'Time spent on social media', 'Prefered social media platform',\n",
              "       'Time spent on TV', 'Number of meals per day', 'Change in your weight',\n",
              "       'Health issue during lockdown', 'Stress busters', 'Time utilized',\n",
              "       'Do you find yourself more connected with your family, close friends , relatives  ?',\n",
              "       'What you miss the most'],\n",
              "      dtype='object')"
            ]
          },
          "metadata": {
            "tags": []
          },
          "execution_count": 8
        }
      ]
    },
    {
      "cell_type": "code",
      "metadata": {
        "colab": {
          "base_uri": "https://localhost:8080/"
        },
        "id": "ToEN8HB17iV6",
        "outputId": "c58c7280-b8af-4426-e671-bcc5e9dafcf8"
      },
      "source": [
        "df['Stress busters']"
      ],
      "execution_count": null,
      "outputs": [
        {
          "output_type": "execute_result",
          "data": {
            "text/plain": [
              "0                              Cooking\n",
              "1       Scrolling through social media\n",
              "2                   Listening to music\n",
              "3                  Watching web series\n",
              "4                         Social Media\n",
              "                     ...              \n",
              "1177                           Dancing\n",
              "1178                Listening to music\n",
              "1179                     Online gaming\n",
              "1180                     Reading books\n",
              "1181                           Talking\n",
              "Name: Stress busters, Length: 1182, dtype: object"
            ]
          },
          "metadata": {
            "tags": []
          },
          "execution_count": 9
        }
      ]
    },
    {
      "cell_type": "code",
      "metadata": {
        "colab": {
          "base_uri": "https://localhost:8080/"
        },
        "id": "7qnhM9Ak7PKa",
        "outputId": "3252a73d-61c2-4a2b-978e-a3845c633d0c"
      },
      "source": [
        "df.shape"
      ],
      "execution_count": null,
      "outputs": [
        {
          "output_type": "execute_result",
          "data": {
            "text/plain": [
              "(1182, 19)"
            ]
          },
          "metadata": {
            "tags": []
          },
          "execution_count": 10
        }
      ]
    },
    {
      "cell_type": "code",
      "metadata": {
        "colab": {
          "base_uri": "https://localhost:8080/"
        },
        "id": "rEyIQSPZ7SdF",
        "outputId": "6c062432-4107-4d4a-c99d-dffe94826362"
      },
      "source": [
        "df.info"
      ],
      "execution_count": null,
      "outputs": [
        {
          "output_type": "execute_result",
          "data": {
            "text/plain": [
              "<bound method DataFrame.info of          ID  ... What you miss the most\n",
              "0        R1  ...         School/college\n",
              "1        R2  ...  Roaming around freely\n",
              "2        R3  ...             Travelling\n",
              "3        R4  ...    Friends , relatives\n",
              "4        R5  ...             Travelling\n",
              "...     ...  ...                    ...\n",
              "1177  R1191  ...             Travelling\n",
              "1178  R1192  ...    Friends , relatives\n",
              "1179  R1193  ...         School/college\n",
              "1180  R1194  ...         School/college\n",
              "1181  R1195  ...         School/college\n",
              "\n",
              "[1182 rows x 19 columns]>"
            ]
          },
          "metadata": {
            "tags": []
          },
          "execution_count": 11
        }
      ]
    },
    {
      "cell_type": "markdown",
      "metadata": {
        "id": "QXAudR2g5S7v"
      },
      "source": [
        "## 4. Limpieza de datos y agregaciones"
      ]
    },
    {
      "cell_type": "code",
      "metadata": {
        "colab": {
          "base_uri": "https://localhost:8080/"
        },
        "id": "01LXuo9f5VAI",
        "outputId": "4d4c1ce8-db69-48e2-ef32-77509f9af2bc"
      },
      "source": [
        "df.isna().sum()"
      ],
      "execution_count": null,
      "outputs": [
        {
          "output_type": "execute_result",
          "data": {
            "text/plain": [
              "ID                                                                                     0\n",
              "Region of residence                                                                    0\n",
              "Age of Subject                                                                         0\n",
              "Time spent on Online Class                                                             0\n",
              "Rating of Online Class experience                                                     24\n",
              "Medium for online class                                                               51\n",
              "Time spent on self study                                                               0\n",
              "Time spent on fitness                                                                  0\n",
              "Time spent on sleep                                                                    0\n",
              "Time spent on social media                                                             0\n",
              "Prefered social media platform                                                         0\n",
              "Time spent on TV                                                                       0\n",
              "Number of meals per day                                                                0\n",
              "Change in your weight                                                                  0\n",
              "Health issue during lockdown                                                           0\n",
              "Stress busters                                                                         0\n",
              "Time utilized                                                                          0\n",
              "Do you find yourself more connected with your family, close friends , relatives  ?     0\n",
              "What you miss the most                                                                 0\n",
              "dtype: int64"
            ]
          },
          "metadata": {
            "tags": []
          },
          "execution_count": 14
        }
      ]
    },
    {
      "cell_type": "code",
      "metadata": {
        "colab": {
          "base_uri": "https://localhost:8080/",
          "height": 539
        },
        "id": "nM66jLpF5XUD",
        "outputId": "ce3f1717-2077-43fa-ada1-ba929938d2d4"
      },
      "source": [
        "df[df['Medium for online class'].isna()].head()"
      ],
      "execution_count": null,
      "outputs": [
        {
          "output_type": "execute_result",
          "data": {
            "text/html": [
              "<div>\n",
              "<style scoped>\n",
              "    .dataframe tbody tr th:only-of-type {\n",
              "        vertical-align: middle;\n",
              "    }\n",
              "\n",
              "    .dataframe tbody tr th {\n",
              "        vertical-align: top;\n",
              "    }\n",
              "\n",
              "    .dataframe thead th {\n",
              "        text-align: right;\n",
              "    }\n",
              "</style>\n",
              "<table border=\"1\" class=\"dataframe\">\n",
              "  <thead>\n",
              "    <tr style=\"text-align: right;\">\n",
              "      <th></th>\n",
              "      <th>ID</th>\n",
              "      <th>Region of residence</th>\n",
              "      <th>Age of Subject</th>\n",
              "      <th>Time spent on Online Class</th>\n",
              "      <th>Rating of Online Class experience</th>\n",
              "      <th>Medium for online class</th>\n",
              "      <th>Time spent on self study</th>\n",
              "      <th>Time spent on fitness</th>\n",
              "      <th>Time spent on sleep</th>\n",
              "      <th>Time spent on social media</th>\n",
              "      <th>Prefered social media platform</th>\n",
              "      <th>Time spent on TV</th>\n",
              "      <th>Number of meals per day</th>\n",
              "      <th>Change in your weight</th>\n",
              "      <th>Health issue during lockdown</th>\n",
              "      <th>Stress busters</th>\n",
              "      <th>Time utilized</th>\n",
              "      <th>Do you find yourself more connected with your family, close friends , relatives  ?</th>\n",
              "      <th>What you miss the most</th>\n",
              "    </tr>\n",
              "  </thead>\n",
              "  <tbody>\n",
              "    <tr>\n",
              "      <th>32</th>\n",
              "      <td>R33</td>\n",
              "      <td>Delhi-NCR</td>\n",
              "      <td>21</td>\n",
              "      <td>0.0</td>\n",
              "      <td>Very poor</td>\n",
              "      <td>NaN</td>\n",
              "      <td>5.0</td>\n",
              "      <td>2.0</td>\n",
              "      <td>4.0</td>\n",
              "      <td>2.0</td>\n",
              "      <td>Omegle</td>\n",
              "      <td>0</td>\n",
              "      <td>3</td>\n",
              "      <td>Remain Constant</td>\n",
              "      <td>NO</td>\n",
              "      <td>Watching orgasm releasing videos</td>\n",
              "      <td>YES</td>\n",
              "      <td>NO</td>\n",
              "      <td>Nothing this is my usual life</td>\n",
              "    </tr>\n",
              "    <tr>\n",
              "      <th>34</th>\n",
              "      <td>R35</td>\n",
              "      <td>Delhi-NCR</td>\n",
              "      <td>20</td>\n",
              "      <td>0.0</td>\n",
              "      <td>NaN</td>\n",
              "      <td>NaN</td>\n",
              "      <td>6.0</td>\n",
              "      <td>1.0</td>\n",
              "      <td>6.0</td>\n",
              "      <td>5.0</td>\n",
              "      <td>Instagram</td>\n",
              "      <td>0</td>\n",
              "      <td>4</td>\n",
              "      <td>Increased</td>\n",
              "      <td>NO</td>\n",
              "      <td>Talking to your relatives</td>\n",
              "      <td>YES</td>\n",
              "      <td>NO</td>\n",
              "      <td>Eating outside</td>\n",
              "    </tr>\n",
              "    <tr>\n",
              "      <th>39</th>\n",
              "      <td>R40</td>\n",
              "      <td>Delhi-NCR</td>\n",
              "      <td>20</td>\n",
              "      <td>0.0</td>\n",
              "      <td>NaN</td>\n",
              "      <td>NaN</td>\n",
              "      <td>8.0</td>\n",
              "      <td>0.0</td>\n",
              "      <td>8.0</td>\n",
              "      <td>0.0</td>\n",
              "      <td>Youtube</td>\n",
              "      <td>0</td>\n",
              "      <td>3</td>\n",
              "      <td>Increased</td>\n",
              "      <td>NO</td>\n",
              "      <td>Reading books</td>\n",
              "      <td>NO</td>\n",
              "      <td>YES</td>\n",
              "      <td>Travelling</td>\n",
              "    </tr>\n",
              "    <tr>\n",
              "      <th>66</th>\n",
              "      <td>R67</td>\n",
              "      <td>Outside Delhi-NCR</td>\n",
              "      <td>19</td>\n",
              "      <td>0.0</td>\n",
              "      <td>NaN</td>\n",
              "      <td>NaN</td>\n",
              "      <td>0.0</td>\n",
              "      <td>2.0</td>\n",
              "      <td>6.0</td>\n",
              "      <td>4.0</td>\n",
              "      <td>Instagram</td>\n",
              "      <td>0.5</td>\n",
              "      <td>3</td>\n",
              "      <td>Remain Constant</td>\n",
              "      <td>NO</td>\n",
              "      <td>Listening to music</td>\n",
              "      <td>NO</td>\n",
              "      <td>YES</td>\n",
              "      <td>Eating outside</td>\n",
              "    </tr>\n",
              "    <tr>\n",
              "      <th>129</th>\n",
              "      <td>R130</td>\n",
              "      <td>Delhi-NCR</td>\n",
              "      <td>19</td>\n",
              "      <td>0.0</td>\n",
              "      <td>NaN</td>\n",
              "      <td>NaN</td>\n",
              "      <td>1.0</td>\n",
              "      <td>3.0</td>\n",
              "      <td>8.0</td>\n",
              "      <td>5.0</td>\n",
              "      <td>Instagram</td>\n",
              "      <td>1</td>\n",
              "      <td>1</td>\n",
              "      <td>Decreased</td>\n",
              "      <td>NO</td>\n",
              "      <td>Listening to music</td>\n",
              "      <td>NO</td>\n",
              "      <td>YES</td>\n",
              "      <td>Eating outside</td>\n",
              "    </tr>\n",
              "  </tbody>\n",
              "</table>\n",
              "</div>"
            ],
            "text/plain": [
              "       ID  ...         What you miss the most\n",
              "32    R33  ...  Nothing this is my usual life\n",
              "34    R35  ...                 Eating outside\n",
              "39    R40  ...                     Travelling\n",
              "66    R67  ...                 Eating outside\n",
              "129  R130  ...                 Eating outside\n",
              "\n",
              "[5 rows x 19 columns]"
            ]
          },
          "metadata": {
            "tags": []
          },
          "execution_count": 17
        }
      ]
    },
    {
      "cell_type": "code",
      "metadata": {
        "id": "h1jUSZYS6l1r"
      },
      "source": [
        "df['Medium for online class'] = df['Medium for online class'].fillna('No medium')"
      ],
      "execution_count": null,
      "outputs": []
    },
    {
      "cell_type": "code",
      "metadata": {
        "id": "OHE0h-0C5xgw"
      },
      "source": [
        "df['Rating of Online Class experience'] = df['Rating of Online Class experience'].fillna('No rating')"
      ],
      "execution_count": null,
      "outputs": []
    },
    {
      "cell_type": "code",
      "metadata": {
        "colab": {
          "base_uri": "https://localhost:8080/"
        },
        "id": "5FJsIOfQ61D4",
        "outputId": "8ee16be5-e0cc-4b97-fab1-a281de706da2"
      },
      "source": [
        "df.isna().sum()"
      ],
      "execution_count": null,
      "outputs": [
        {
          "output_type": "execute_result",
          "data": {
            "text/plain": [
              "ID                                                                                    0\n",
              "Region of residence                                                                   0\n",
              "Age of Subject                                                                        0\n",
              "Time spent on Online Class                                                            0\n",
              "Rating of Online Class experience                                                     0\n",
              "Medium for online class                                                               0\n",
              "Time spent on self study                                                              0\n",
              "Time spent on fitness                                                                 0\n",
              "Time spent on sleep                                                                   0\n",
              "Time spent on social media                                                            0\n",
              "Prefered social media platform                                                        0\n",
              "Time spent on TV                                                                      0\n",
              "Number of meals per day                                                               0\n",
              "Change in your weight                                                                 0\n",
              "Health issue during lockdown                                                          0\n",
              "Stress busters                                                                        0\n",
              "Time utilized                                                                         0\n",
              "Do you find yourself more connected with your family, close friends , relatives  ?    0\n",
              "What you miss the most                                                                0\n",
              "dtype: int64"
            ]
          },
          "metadata": {
            "tags": []
          },
          "execution_count": 21
        }
      ]
    },
    {
      "cell_type": "code",
      "metadata": {
        "colab": {
          "base_uri": "https://localhost:8080/",
          "height": 317
        },
        "id": "SZlxCE-n65Vc",
        "outputId": "ce51a9aa-a46d-463e-d718-343a9d275917"
      },
      "source": [
        "df.describe()"
      ],
      "execution_count": null,
      "outputs": [
        {
          "output_type": "execute_result",
          "data": {
            "text/html": [
              "<div>\n",
              "<style scoped>\n",
              "    .dataframe tbody tr th:only-of-type {\n",
              "        vertical-align: middle;\n",
              "    }\n",
              "\n",
              "    .dataframe tbody tr th {\n",
              "        vertical-align: top;\n",
              "    }\n",
              "\n",
              "    .dataframe thead th {\n",
              "        text-align: right;\n",
              "    }\n",
              "</style>\n",
              "<table border=\"1\" class=\"dataframe\">\n",
              "  <thead>\n",
              "    <tr style=\"text-align: right;\">\n",
              "      <th></th>\n",
              "      <th>Age of Subject</th>\n",
              "      <th>Time spent on Online Class</th>\n",
              "      <th>Time spent on self study</th>\n",
              "      <th>Time spent on fitness</th>\n",
              "      <th>Time spent on sleep</th>\n",
              "      <th>Time spent on social media</th>\n",
              "      <th>Number of meals per day</th>\n",
              "    </tr>\n",
              "  </thead>\n",
              "  <tbody>\n",
              "    <tr>\n",
              "      <th>count</th>\n",
              "      <td>1182.000000</td>\n",
              "      <td>1182.000000</td>\n",
              "      <td>1182.000000</td>\n",
              "      <td>1182.000000</td>\n",
              "      <td>1182.000000</td>\n",
              "      <td>1182.000000</td>\n",
              "      <td>1182.000000</td>\n",
              "    </tr>\n",
              "    <tr>\n",
              "      <th>mean</th>\n",
              "      <td>20.165821</td>\n",
              "      <td>3.208841</td>\n",
              "      <td>2.911591</td>\n",
              "      <td>0.765821</td>\n",
              "      <td>7.871235</td>\n",
              "      <td>2.365694</td>\n",
              "      <td>2.917936</td>\n",
              "    </tr>\n",
              "    <tr>\n",
              "      <th>std</th>\n",
              "      <td>5.516467</td>\n",
              "      <td>2.101756</td>\n",
              "      <td>2.140590</td>\n",
              "      <td>0.724451</td>\n",
              "      <td>1.615762</td>\n",
              "      <td>1.767336</td>\n",
              "      <td>0.828698</td>\n",
              "    </tr>\n",
              "    <tr>\n",
              "      <th>min</th>\n",
              "      <td>7.000000</td>\n",
              "      <td>0.000000</td>\n",
              "      <td>0.000000</td>\n",
              "      <td>0.000000</td>\n",
              "      <td>4.000000</td>\n",
              "      <td>0.000000</td>\n",
              "      <td>1.000000</td>\n",
              "    </tr>\n",
              "    <tr>\n",
              "      <th>25%</th>\n",
              "      <td>17.000000</td>\n",
              "      <td>2.000000</td>\n",
              "      <td>2.000000</td>\n",
              "      <td>0.000000</td>\n",
              "      <td>7.000000</td>\n",
              "      <td>1.000000</td>\n",
              "      <td>2.000000</td>\n",
              "    </tr>\n",
              "    <tr>\n",
              "      <th>50%</th>\n",
              "      <td>20.000000</td>\n",
              "      <td>3.000000</td>\n",
              "      <td>2.000000</td>\n",
              "      <td>1.000000</td>\n",
              "      <td>8.000000</td>\n",
              "      <td>2.000000</td>\n",
              "      <td>3.000000</td>\n",
              "    </tr>\n",
              "    <tr>\n",
              "      <th>75%</th>\n",
              "      <td>21.000000</td>\n",
              "      <td>5.000000</td>\n",
              "      <td>4.000000</td>\n",
              "      <td>1.000000</td>\n",
              "      <td>9.000000</td>\n",
              "      <td>3.000000</td>\n",
              "      <td>3.000000</td>\n",
              "    </tr>\n",
              "    <tr>\n",
              "      <th>max</th>\n",
              "      <td>59.000000</td>\n",
              "      <td>10.000000</td>\n",
              "      <td>18.000000</td>\n",
              "      <td>5.000000</td>\n",
              "      <td>15.000000</td>\n",
              "      <td>10.000000</td>\n",
              "      <td>8.000000</td>\n",
              "    </tr>\n",
              "  </tbody>\n",
              "</table>\n",
              "</div>"
            ],
            "text/plain": [
              "       Age of Subject  ...  Number of meals per day\n",
              "count     1182.000000  ...              1182.000000\n",
              "mean        20.165821  ...                 2.917936\n",
              "std          5.516467  ...                 0.828698\n",
              "min          7.000000  ...                 1.000000\n",
              "25%         17.000000  ...                 2.000000\n",
              "50%         20.000000  ...                 3.000000\n",
              "75%         21.000000  ...                 3.000000\n",
              "max         59.000000  ...                 8.000000\n",
              "\n",
              "[8 rows x 7 columns]"
            ]
          },
          "metadata": {
            "tags": []
          },
          "execution_count": 24
        }
      ]
    },
    {
      "cell_type": "markdown",
      "metadata": {
        "id": "ZOkSC9q08iEM"
      },
      "source": [
        "## 5. Transformación, filtración y ordenamiento de datos"
      ]
    },
    {
      "cell_type": "code",
      "metadata": {
        "colab": {
          "base_uri": "https://localhost:8080/"
        },
        "id": "_Csc1cQx7EoT",
        "outputId": "94ab7287-c61f-4f0c-d867-8bff6357f3a9"
      },
      "source": [
        "set(df['Time spent on TV'])"
      ],
      "execution_count": null,
      "outputs": [
        {
          "output_type": "execute_result",
          "data": {
            "text/plain": [
              "{' ',\n",
              " '0',\n",
              " '0.1',\n",
              " '0.25',\n",
              " '0.3',\n",
              " '0.4',\n",
              " '0.5',\n",
              " '0.6',\n",
              " '0.75',\n",
              " '1',\n",
              " '1.5',\n",
              " '15',\n",
              " '2',\n",
              " '2.5',\n",
              " '3',\n",
              " '3.5',\n",
              " '4',\n",
              " '4.5',\n",
              " '5',\n",
              " '6',\n",
              " '7',\n",
              " '8',\n",
              " 'N',\n",
              " 'No tv',\n",
              " 'n'}"
            ]
          },
          "metadata": {
            "tags": []
          },
          "execution_count": 28
        }
      ]
    },
    {
      "cell_type": "code",
      "metadata": {
        "id": "4arFr7SP8nHv"
      },
      "source": [
        "df['Time spent on TV'] = df['Time spent on TV'].replace({'N': 0, 'No tv':0, 'n': 0, ' ':0}).astype(float)"
      ],
      "execution_count": null,
      "outputs": []
    },
    {
      "cell_type": "code",
      "metadata": {
        "colab": {
          "base_uri": "https://localhost:8080/"
        },
        "id": "DDLGnxp79Ipv",
        "outputId": "7e4ec3fc-a8b8-4608-c788-4568e9f3d02c"
      },
      "source": [
        "df.info()"
      ],
      "execution_count": null,
      "outputs": [
        {
          "output_type": "stream",
          "text": [
            "<class 'pandas.core.frame.DataFrame'>\n",
            "RangeIndex: 1182 entries, 0 to 1181\n",
            "Data columns (total 19 columns):\n",
            " #   Column                                                                              Non-Null Count  Dtype  \n",
            "---  ------                                                                              --------------  -----  \n",
            " 0   ID                                                                                  1182 non-null   object \n",
            " 1   Region of residence                                                                 1182 non-null   object \n",
            " 2   Age of Subject                                                                      1182 non-null   int64  \n",
            " 3   Time spent on Online Class                                                          1182 non-null   float64\n",
            " 4   Rating of Online Class experience                                                   1182 non-null   object \n",
            " 5   Medium for online class                                                             1182 non-null   object \n",
            " 6   Time spent on self study                                                            1182 non-null   float64\n",
            " 7   Time spent on fitness                                                               1182 non-null   float64\n",
            " 8   Time spent on sleep                                                                 1182 non-null   float64\n",
            " 9   Time spent on social media                                                          1182 non-null   float64\n",
            " 10  Prefered social media platform                                                      1182 non-null   object \n",
            " 11  Time spent on TV                                                                    1182 non-null   float64\n",
            " 12  Number of meals per day                                                             1182 non-null   int64  \n",
            " 13  Change in your weight                                                               1182 non-null   object \n",
            " 14  Health issue during lockdown                                                        1182 non-null   object \n",
            " 15  Stress busters                                                                      1182 non-null   object \n",
            " 16  Time utilized                                                                       1182 non-null   object \n",
            " 17  Do you find yourself more connected with your family, close friends , relatives  ?  1182 non-null   object \n",
            " 18  What you miss the most                                                              1182 non-null   object \n",
            "dtypes: float64(6), int64(2), object(11)\n",
            "memory usage: 175.6+ KB\n"
          ],
          "name": "stdout"
        }
      ]
    },
    {
      "cell_type": "code",
      "metadata": {
        "colab": {
          "base_uri": "https://localhost:8080/"
        },
        "id": "Dr7w3zq9_DHp",
        "outputId": "ebe4af42-98ba-4429-cd48-12e4cf2245eb"
      },
      "source": [
        "for i in df.loc[: , df.dtypes==object].columns:\n",
        "  print(set(df[i]))"
      ],
      "execution_count": null,
      "outputs": [
        {
          "output_type": "stream",
          "text": [
            "{'R106', 'R1015', 'R454', 'R73', 'R459', 'R522', 'R227', 'R1035', 'R835', 'R730', 'R449', 'R639', 'R156', 'R903', 'R457', 'R637', 'R656', 'R1020', 'R644', 'R957', 'R271', 'R17', 'R755', 'R587', 'R992', 'R245', 'R881', 'R688', 'R805', 'R386', 'R842', 'R851', 'R307', 'R936', 'R625', 'R611', 'R511', 'R657', 'R229', 'R462', 'R674', 'R1061', 'R13', 'R337', 'R175', 'R958', 'R844', 'R693', 'R1094', 'R643', 'R654', 'R533', 'R691', 'R441', 'R631', 'R58', 'R1105', 'R124', 'R1165', 'R736', 'R636', 'R154', 'R94', 'R168', 'R986', 'R89', 'R425', 'R487', 'R548', 'R676', 'R1000', 'R327', 'R1032', 'R1098', 'R369', 'R52', 'R33', 'R776', 'R694', 'R172', 'R137', 'R402', 'R417', 'R385', 'R330', 'R1008', 'R499', 'R145', 'R347', 'R1150', 'R280', 'R64', 'R255', 'R1079', 'R286', 'R735', 'R824', 'R1', 'R6', 'R56', 'R945', 'R70', 'R853', 'R612', 'R733', 'R496', 'R927', 'R626', 'R455', 'R375', 'R701', 'R889', 'R977', 'R1142', 'R261', 'R470', 'R21', 'R428', 'R642', 'R1171', 'R408', 'R839', 'R142', 'R968', 'R690', 'R1099', 'R247', 'R1095', 'R490', 'R79', 'R426', 'R259', 'R433', 'R436', 'R975', 'R687', 'R524', 'R740', 'R1160', 'R520', 'R911', 'R512', 'R609', 'R223', 'R508', 'R362', 'R565', 'R590', 'R781', 'R828', 'R1055', 'R3', 'R157', 'R802', 'R1030', 'R751', 'R1075', 'R340', 'R596', 'R219', 'R672', 'R1179', 'R179', 'R295', 'R65', 'R870', 'R742', 'R783', 'R1073', 'R1123', 'R405', 'R368', 'R141', 'R479', 'R380', 'R78', 'R1176', 'R226', 'R262', 'R819', 'R121', 'R150', 'R965', 'R1136', 'R1177', 'R120', 'R189', 'R827', 'R38', 'R101', 'R859', 'R1045', 'R552', 'R823', 'R898', 'R940', 'R1113', 'R944', 'R856', 'R1065', 'R360', 'R647', 'R46', 'R650', 'R872', 'R1010', 'R822', 'R205', 'R128', 'R393', 'R80', 'R592', 'R199', 'R1122', 'R1193', 'R331', 'R913', 'R949', 'R732', 'R712', 'R180', 'R1056', 'R597', 'R85', 'R680', 'R888', 'R543', 'R825', 'R192', 'R86', 'R136', 'R561', 'R867', 'R11', 'R376', 'R860', 'R306', 'R243', 'R19', 'R414', 'R335', 'R105', 'R999', 'R84', 'R725', 'R1060', 'R905', 'R469', 'R915', 'R432', 'R290', 'R37', 'R573', 'R857', 'R138', 'R1139', 'R1149', 'R804', 'R586', 'R328', 'R410', 'R987', 'R344', 'R18', 'R779', 'R384', 'R301', 'R334', 'R868', 'R921', 'R461', 'R60', 'R169', 'R110', 'R917', 'R811', 'R392', 'R431', 'R516', 'R283', 'R1127', 'R763', 'R1167', 'R495', 'R734', 'R897', 'R1146', 'R1152', 'R1047', 'R526', 'R240', 'R152', 'R570', 'R443', 'R575', 'R635', 'R995', 'R1027', 'R171', 'R1088', 'R662', 'R924', 'R135', 'R1124', 'R1175', 'R934', 'R291', 'R232', 'R406', 'R509', 'R771', 'R294', 'R176', 'R536', 'R985', 'R794', 'R216', 'R100', 'R595', 'R482', 'R103', 'R709', 'R1132', 'R131', 'R651', 'R463', 'R818', 'R1126', 'R363', 'R715', 'R151', 'R464', 'R1092', 'R768', 'R1107', 'R990', 'R576', 'R954', 'R108', 'R1077', 'R1108', 'R1145', 'R310', 'R1118', 'R817', 'R332', 'R358', 'R484', 'R71', 'R420', 'R114', 'R440', 'R266', 'R667', 'R456', 'R571', 'R25', 'R569', 'R1041', 'R273', 'R950', 'R1185', 'R681', 'R214', 'R582', 'R614', 'R623', 'R973', 'R862', 'R619', 'R593', 'R974', 'R1116', 'R1078', 'R15', 'R272', 'R246', 'R442', 'R559', 'R133', 'R890', 'R10', 'R250', 'R389', 'R481', 'R1143', 'R1173', 'R361', 'R951', 'R964', 'R28', 'R726', 'R382', 'R695', 'R419', 'R521', 'R599', 'R660', 'R173', 'R719', 'R1110', 'R1097', 'R885', 'R686', 'R48', 'R1058', 'R96', 'R378', 'R47', 'R1011', 'R1002', 'R653', 'R276', 'R473', 'R404', 'R970', 'R434', 'R326', 'R707', 'R601', 'R547', 'R699', 'R161', 'R838', 'R263', 'R935', 'R887', 'R910', 'R962', 'R1178', 'R54', 'R365', 'R9', 'R718', 'R477', 'R542', 'R996', 'R1007', 'R1129', 'R710', 'R235', 'R880', 'R492', 'R831', 'R854', 'R238', 'R292', 'R343', 'R622', 'R807', 'R268', 'R866', 'R919', 'R670', 'R1090', 'R241', 'R373', 'R458', 'R810', 'R955', 'R12', 'R147', 'R1009', 'R329', 'R583', 'R744', 'R806', 'R253', 'R942', 'R311', 'R483', 'R35', 'R632', 'R658', 'R493', 'R746', 'R1081', 'R1072', 'R318', 'R678', 'R478', 'R1040', 'R847', 'R62', 'R370', 'R350', 'R550', 'R1059', 'R1174', 'R708', 'R352', 'R784', 'R1044', 'R184', 'R563', 'R356', 'R792', 'R349', 'R529', 'R901', 'R317', 'R92', 'R399', 'R554', 'R1026', 'R539', 'R830', 'R605', 'R471', 'R997', 'R24', 'R44', 'R95', 'R63', 'R30', 'R91', 'R780', 'R366', 'R447', 'R116', 'R902', 'R123', 'R267', 'R1050', 'R665', 'R652', 'R525', 'R125', 'R754', 'R501', 'R989', 'R249', 'R153', 'R1046', 'R308', 'R55', 'R1134', 'R467', 'R289', 'R339', 'R254', 'R1043', 'R502', 'R230', 'R391', 'R320', 'R498', 'R448', 'R41', 'R673', 'R1112', 'R49', 'R1192', 'R567', 'R820', 'R40', 'R474', 'R774', 'R1018', 'R540', 'R413', 'R797', 'R1130', 'R117', 'R293', 'R1036', 'R119', 'R904', 'R1017', 'R1168', 'R514', 'R534', 'R706', 'R947', 'R1012', 'R72', 'R832', 'R446', 'R527', 'R357', 'R374', 'R577', 'R969', 'R132', 'R705', 'R353', 'R217', 'R1133', 'R580', 'R594', 'R666', 'R409', 'R264', 'R900', 'R1111', 'R519', 'R930', 'R556', 'R239', 'R66', 'R260', 'R1117', 'R741', 'R920', 'R270', 'R453', 'R929', 'R115', 'R914', 'R22', 'R983', 'R32', 'R252', 'R1119', 'R444', 'R379', 'R67', 'R244', 'R765', 'R504', 'R531', 'R668', 'R796', 'R922', 'R174', 'R873', 'R1028', 'R1091', 'R212', 'R1038', 'R418', 'R1104', 'R181', 'R224', 'R669', 'R629', 'R102', 'R1158', 'R739', 'R876', 'R1161', 'R390', 'R764', 'R476', 'R118', 'R346', 'R756', 'R948', 'R130', 'R814', 'R387', 'R8', 'R966', 'R155', 'R237', 'R315', 'R788', 'R170', 'R618', 'R1069', 'R1024', 'R207', 'R848', 'R309', 'R50', 'R265', 'R884', 'R700', 'R298', 'R39', 'R702', 'R758', 'R1191', 'R795', 'R875', 'R1025', 'R407', 'R869', 'R1140', 'R90', 'R1137', 'R68', 'R27', 'R638', 'R1037', 'R1071', 'R348', 'R937', 'R438', 'R775', 'R411', 'R661', 'R1138', 'R1148', 'R808', 'R1096', 'R1184', 'R424', 'R1006', 'R256', 'R816', 'R748', 'R1162', 'R738', 'R568', 'R75', 'R503', 'R980', 'R1144', 'R698', 'R1186', 'R608', 'R445', 'R535', 'R325', 'R1154', 'R1194', 'R1135', 'R628', 'R684', 'R1100', 'R494', 'R506', 'R146', 'R821', 'R850', 'R713', 'R721', 'R604', 'R233', 'R1128', 'R140', 'R210', 'R489', 'R523', 'R621', 'R427', 'R773', 'R602', 'R757', 'R1064', 'R1151', 'R943', 'R809', 'R1052', 'R196', 'R938', 'R858', 'R297', 'R682', 'R778', 'R1019', 'R790', 'R228', 'R1084', 'R845', 'R43', 'R918', 'R278', 'R127', 'R886', 'R882', 'R371', 'R198', 'R538', 'R1004', 'R1076', 'R787', 'R1014', 'R852', 'R579', 'R394', 'R697', 'R879', 'R321', 'R630', 'R88', 'R960', 'R164', 'R274', 'R281', 'R1085', 'R1164', 'R1156', 'R186', 'R600', 'R2', 'R222', 'R925', 'R148', 'R1029', 'R275', 'R589', 'R761', 'R789', 'R1033', 'R1106', 'R215', 'R1153', 'R649', 'R415', 'R497', 'R716', 'R129', 'R745', 'R979', 'R435', 'R314', 'R1066', 'R1114', 'R1159', 'R190', 'R941', 'R664', 'R909', 'R401', 'R620', 'R981', 'R34', 'R727', 'R313', 'R1001', 'R1172', 'R782', 'R450', 'R537', 'R906', 'R551', 'R916', 'R421', 'R1051', 'R197', 'R555', 'R36', 'R939', 'R341', 'R134', 'R57', 'R304', 'R546', 'R912', 'R931', 'R513', 'R532', 'R500', 'R843', 'R351', 'R1101', 'R93', 'R7', 'R893', 'R750', 'R416', 'R864', 'R891', 'R1080', 'R160', 'R231', 'R598', 'R760', 'R177', 'R767', 'R430', 'R51', 'R98', 'R403', 'R770', 'R397', 'R617', 'R752', 'R1157', 'R322', 'R679', 'R1053', 'R692', 'R188', 'R195', 'R194', 'R772', 'R953', 'R82', 'R967', 'R83', 'R76', 'R633', 'R1189', 'R287', 'R491', 'R646', 'R201', 'R1187', 'R288', 'R793', 'R815', 'R1169', 'R31', 'R566', 'R786', 'R1182', 'R1125', 'R928', 'R367', 'R377', 'R472', 'R1190', 'R791', 'R926', 'R988', 'R840', 'R855', 'R907', 'R1042', 'R849', 'R560', 'R833', 'R724', 'R861', 'R251', 'R1155', 'R163', 'R624', 'R1082', 'R398', 'R191', 'R107', 'R285', 'R345', 'R731', 'R933', 'R663', 'R1181', 'R1067', 'R1166', 'R971', 'R645', 'R984', 'R704', 'R1021', 'R610', 'R53', 'R923', 'R641', 'R303', 'R412', 'R185', 'R282', 'R961', 'R218', 'R460', 'R518', 'R1109', 'R257', 'R585', 'R762', 'R113', 'R1070', 'R659', 'R178', 'R355', 'R1141', 'R203', 'R144', 'R104', 'R613', 'R342', 'R846', 'R978', 'R122', 'R1121', 'R553', 'R946', 'R894', 'R182', 'R993', 'R388', 'R1188', 'R749', 'R648', 'R97', 'R279', 'R689', 'R895', 'R126', 'R451', 'R312', 'R1013', 'R671', 'R324', 'R541', 'R396', 'R423', 'R1102', 'R545', 'R220', 'R1068', 'R1183', 'R112', 'R1120', 'R874', 'R799', 'R1063', 'R998', 'R167', 'R338', 'R892', 'R932', 'R616', 'R829', 'R972', 'R1115', 'R976', 'R627', 'R1089', 'R323', 'R743', 'R557', 'R737', 'R759', 'R1057', 'R29', 'R77', 'R675', 'R162', 'R1083', 'R149', 'R753', 'R4', 'R269', 'R591', 'R714', 'R139', 'R59', 'R549', 'R603', 'R720', 'R507', 'R711', 'R69', 'R963', 'R1180', 'R480', 'R422', 'R883', 'R109', 'R299', 'R572', 'R505', 'R302', 'R1195', 'R258', 'R165', 'R640', 'R834', 'R225', 'R1093', 'R381', 'R896', 'R558', 'R74', 'R696', 'R1062', 'R769', 'R899', 'R1147', 'R187', 'R801', 'R221', 'R562', 'R14', 'R510', 'R1022', 'R1005', 'R729', 'R202', 'R837', 'R208', 'R383', 'R1034', 'R143', 'R158', 'R777', 'R588', 'R863', 'R956', 'R159', 'R359', 'R615', 'R877', 'R515', 'R242', 'R1103', 'R865', 'R703', 'R20', 'R87', 'R1049', 'R836', 'R634', 'R99', 'R236', 'R211', 'R581', 'R1031', 'R234', 'R584', 'R655', 'R23', 'R166', 'R336', 'R354', 'R400', 'R395', 'R728', 'R5', 'R45', 'R486', 'R517', 'R372', 'R485', 'R305', 'R111', 'R364', 'R1016', 'R439', 'R606', 'R812', 'R959', 'R578', 'R1087', 'R785', 'R683', 'R1131', 'R1074', 'R488', 'R42', 'R826', 'R766', 'R685', 'R982', 'R206', 'R465', 'R564', 'R723', 'R871', 'R193', 'R333', 'R908', 'R26', 'R528', 'R722', 'R1048', 'R747', 'R468', 'R209', 'R530', 'R878', 'R994', 'R183', 'R813', 'R466', 'R952', 'R316', 'R452', 'R204', 'R717', 'R841', 'R475', 'R803', 'R544', 'R798', 'R296', 'R200', 'R16', 'R61', 'R800', 'R574', 'R429', 'R437', 'R1023', 'R1054', 'R81', 'R991'}\n",
            "{'Delhi-NCR', 'Outside Delhi-NCR'}\n",
            "{'Excellent', 'Average', 'Good', 'No rating', 'Very poor', 'Poor'}\n",
            "{'Any Gadget', 'Tablet', 'Smartphone or Laptop/Desktop', 'Smartphone', 'Laptop/Desktop', 'No medium'}\n",
            "{'Twitter', 'Telegram', 'Linkedin', 'Whatsapp', 'None ', 'Talklife', 'None', 'Quora', 'WhatsApp', 'Snapchat', 'Omegle', 'Youtube', 'Facebook', 'Reddit', 'Instagram', 'Elyment'}\n",
            "{'Increased', 'Remain Constant', 'Decreased'}\n",
            "{'YES', 'NO'}\n",
            "{'Both listining music and scrolling down social media', 'Coding and studying for exams', 'Talking to your relatives', 'Exercising', 'Web Series', 'listening to music,reading books and dancing.', 'Painting ', 'Whatever want', 'Listening to music and reading books both . ', 'I play Rubiks cube', 'Talking to friends', 'Do some home related stuff', 'drawing ', 'Watching orgasm releasing videos', 'Online gaming', 'Reading books, music, exercise', 'Cricket', 'All reading books watching web series listening to music and talking to friends', 'With a friend', 'By engaging in my work.', 'Online surfing', 'Drawing', 'Watching web series', 'Forming ', 'working out and some physical activity', 'Gym', 'Talking with friends ', 'Work', 'Listening to music', 'Painting', 'Sleeping', 'No able to reduce the stress ', 'Talking', 'gardening cartoon', 'Sketching', 'no stress', 'Dont get distreessed', 'Anime Manga', 'Driving', 'Reading', 'Drawing and painting and sketching', 'Poetry, writing books and novels , listening to music too', 'Crying', 'Many of these', 'Workout and listening music', 'pubg', 'workout', 'Watching YouTube ', 'sketching,reading books,meditation,songs', 'Watching ted talks and music and books', 'Sleep', 'Playing ', 'Dancing', 'Workout ', 'Writing', 'Painting,. Sewing', 'Netflix, Friends and Books', 'live stream watching', 'Cardio', 'Youtube', 'Cooking', 'Talk with childhood friends.', 'Calling friends', 'Online gaming , surfing and listening to music ', 'Meditation', 'I run', 'Football', 'I cant de-stress myslef', 'Exercise', 'Sports', 'Taking with parents', 'Writing my own Comics & novels', 'watching movies,reading books,games,listening to music,sleep,dancing', 'Reading books', 'singing', 'Sleeping, Online games', 'Social Media', 'Sketching and writing', 'Drawing, painting', 'Indoor Games', ' listening music, motion design, graphic design, sleeping.', 'Scrolling through social media', 'Business', 'Running', 'I have no problem of stress ', 'Many among these '}\n",
            "{'NO', 'YES'}\n",
            "{'NO', 'YES'}\n",
            "{'Taking kids to park', 'Friends and roaming around freely', 'All', 'Normal life', 'Travelling & Friends', 'Being social ', 'Badminton in court', 'Eating outside', 'All of the above ', 'To stay alone. ', 'Job', 'All above', 'Internet', 'Friends,Romaing and traveling', 'Football', 'Friends, relatives & travelling', 'I have missed nothing ', 'Roaming around freely', 'Metro', 'Playing', 'Going to the movies', '.', 'everything', 'Friends , relatives', 'Nothing ', 'all', 'Friends and School', 'ALL', 'nothing', 'All ', 'All the above', 'All of them', 'Nothing this is my usual life', 'Eating outside and friends.', 'Family ', 'NOTHING', 'Family', 'Nothing', 'Previous mistakes', 'The idea of being around fun loving people but this time has certainly made us all to reconnect (and fill the gap if any) with our families and relatives so it is fun but certainly we do miss hanging out with friends', 'Colleagues', 'all of the above', 'Only friends', 'Travelling', 'School and my school friends', 'School and friends.', 'Nah, this is my usual lifestyle anyway, just being lazy....', 'School/college', 'school, relatives and friends', 'My normal routine', 'Gym'}\n"
          ],
          "name": "stdout"
        }
      ]
    },
    {
      "cell_type": "code",
      "metadata": {
        "id": "gGuJYXNW_VUr"
      },
      "source": [
        "df_duerme_menos_8_horas = df[df['Time spent on sleep']<8]"
      ],
      "execution_count": null,
      "outputs": []
    },
    {
      "cell_type": "code",
      "metadata": {
        "id": "3ZwWlpQeA8k1"
      },
      "source": [
        "df_problema_de_salud = df[df['Health issue during lockdown']=='YES']"
      ],
      "execution_count": null,
      "outputs": []
    },
    {
      "cell_type": "code",
      "metadata": {
        "id": "SZ3TTKyFBVv1"
      },
      "source": [
        "df_cambios_de_peso =  df_duerme_menos_8_horas[df_duerme_menos_8_horas['Change in your weight']!='Remain Constant']"
      ],
      "execution_count": null,
      "outputs": []
    },
    {
      "cell_type": "code",
      "metadata": {
        "id": "PYwysu1vCKx4"
      },
      "source": [
        "def misses_something(x):\n",
        "  for i in x:\n",
        "    i = i.lower()\n",
        "    if i == 'nothing':\n",
        "      return False\n",
        "  return True\n"
      ],
      "execution_count": null,
      "outputs": []
    },
    {
      "cell_type": "code",
      "metadata": {
        "id": "ffXZxFVXBlPI"
      },
      "source": [
        "df_peso_y_extrana_cosas = df_cambios_de_peso[df_cambios_de_peso['What you miss the most'].str.split().map(misses_something)]"
      ],
      "execution_count": null,
      "outputs": []
    },
    {
      "cell_type": "code",
      "metadata": {
        "id": "i_7U0M3iDEA_"
      },
      "source": [
        "df_peso_extrana_desconectado = df_peso_y_extrana_cosas[df_peso_y_extrana_cosas['Do you find yourself more connected with your family, close friends , relatives  ?']=='NO']"
      ],
      "execution_count": null,
      "outputs": []
    },
    {
      "cell_type": "code",
      "metadata": {
        "id": "7abXVAkWFuWb"
      },
      "source": [
        ""
      ],
      "execution_count": null,
      "outputs": []
    },
    {
      "cell_type": "code",
      "metadata": {
        "id": "0lYg4E_HGZxP"
      },
      "source": [
        ""
      ],
      "execution_count": null,
      "outputs": []
    }
  ]
}